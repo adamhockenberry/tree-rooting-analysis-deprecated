{
 "cells": [
  {
   "cell_type": "code",
   "execution_count": null,
   "metadata": {
    "collapsed": true
   },
   "outputs": [],
   "source": [
    "%matplotlib inline"
   ]
  },
  {
   "cell_type": "code",
   "execution_count": null,
   "metadata": {
    "collapsed": true
   },
   "outputs": [],
   "source": [
    "import glob\n",
    "from Bio import SeqIO\n",
    "\n",
    "import numpy as np\n",
    "from matplotlib import pyplot as plt"
   ]
  },
  {
   "cell_type": "markdown",
   "metadata": {},
   "source": [
    "# Get intersection sets"
   ]
  },
  {
   "cell_type": "code",
   "execution_count": null,
   "metadata": {
    "collapsed": true
   },
   "outputs": [],
   "source": [
    "a = glob.glob('../Data/raw_OMA_groups/Dikarya_OMA/*.fa')\n",
    "b = glob.glob('../Data/raw_OMA_groups/Protostomia_OMA/*.fa')\n",
    "c = glob.glob('../Data/raw_OMA_groups/Deuterostomia_OMA/*.fa')\n",
    "\n",
    "# a = glob.glob('/Users/adamhockenberry/Downloads/Xanthomodales_OMA/*.fa')\n",
    "# b = glob.glob('/Users/adamhockenberry/Downloads/Pseudomonadales_OMA/*.fa')\n",
    "# c = glob.glob('/Users/adamhockenberry/Downloads/Enterobacterales_OMA/*.fa')"
   ]
  },
  {
   "cell_type": "code",
   "execution_count": null,
   "metadata": {
    "collapsed": true
   },
   "outputs": [],
   "source": [
    "a = [i.split('/')[-1] for i in a]\n",
    "b = [i.split('/')[-1] for i in b]\n",
    "c = [i.split('/')[-1] for i in c]"
   ]
  },
  {
   "cell_type": "code",
   "execution_count": null,
   "metadata": {
    "collapsed": false
   },
   "outputs": [],
   "source": [
    "all_valid = list(set(a).intersection(set(b), set(c)))"
   ]
  },
  {
   "cell_type": "code",
   "execution_count": null,
   "metadata": {
    "collapsed": false
   },
   "outputs": [],
   "source": [
    "print(len(all_valid))"
   ]
  },
  {
   "cell_type": "markdown",
   "metadata": {},
   "source": [
    "# Write OMA groups to concatenated fasta files\n",
    "\n",
    "**After running through this once, I decided to trim the shortest and longest 10% OMA groups according to the median length**\n",
    "\n",
    "Shortest, because getting a decent tree is pretty underdetermined for these sequences and longest because getting an ML tree is quite tediously long"
   ]
  },
  {
   "cell_type": "code",
   "execution_count": null,
   "metadata": {
    "collapsed": false
   },
   "outputs": [],
   "source": [
    "total_seqs = []\n",
    "median_lengths = []\n",
    "for file_name in all_valid[:]:\n",
    "    afile = '../Data/raw_OMA_groups/Dikarya_OMA/{}'.format(file_name)\n",
    "    a_seqs = list(SeqIO.parse(afile, format='fasta'))\n",
    "    bfile = '../Data/raw_OMA_groups/Protostomia_OMA/{}'.format(file_name)\n",
    "    b_seqs = list(SeqIO.parse(bfile, format='fasta'))\n",
    "    cfile = '../Data/raw_OMA_groups/Deuterostomia_OMA/{}'.format(file_name)\n",
    "    c_seqs = list(SeqIO.parse(cfile, format='fasta'))\n",
    "    total_seqs.append(len(a_seqs)+len(b_seqs)+len(c_seqs))\n",
    "    med_len = np.median([len(i.seq) for i in a_seqs]+\n",
    "                         [len(i.seq) for i in b_seqs]+\n",
    "                         [len(i.seq) for i in c_seqs])\n",
    "    median_lengths.append(med_len)\n",
    "    #################################\n",
    "    ###Filtering out some groups here\n",
    "    if med_len <= 160 or med_len >= 973:\n",
    "        continue\n",
    "    with open('../Data/processed_OMA_groups/eukaryotes/{}'.format(file_name), 'w') as outfile:\n",
    "        SeqIO.write(a_seqs + b_seqs + c_seqs, outfile, format='fasta')"
   ]
  },
  {
   "cell_type": "code",
   "execution_count": null,
   "metadata": {
    "collapsed": false
   },
   "outputs": [],
   "source": [
    "fig, ax = plt.subplots()\n",
    "ax.hist(total_seqs)\n",
    "fig, ax = plt.subplots()\n",
    "ax.hist(median_lengths)\n",
    "print(len(total_seqs), len(median_lengths))"
   ]
  },
  {
   "cell_type": "code",
   "execution_count": null,
   "metadata": {
    "collapsed": false
   },
   "outputs": [],
   "source": [
    "np.percentile(median_lengths, 10), np.percentile(median_lengths, 90)"
   ]
  },
  {
   "cell_type": "markdown",
   "metadata": {},
   "source": [
    "**Offline: run MAFFT, RAxML/IQTree**"
   ]
  },
  {
   "cell_type": "code",
   "execution_count": null,
   "metadata": {
    "collapsed": true
   },
   "outputs": [],
   "source": []
  },
  {
   "cell_type": "code",
   "execution_count": null,
   "metadata": {
    "collapsed": true
   },
   "outputs": [],
   "source": []
  },
  {
   "cell_type": "markdown",
   "metadata": {},
   "source": [
    "# Back online"
   ]
  },
  {
   "cell_type": "code",
   "execution_count": null,
   "metadata": {
    "collapsed": true
   },
   "outputs": [],
   "source": []
  }
 ],
 "metadata": {
  "kernelspec": {
   "display_name": "Python 3",
   "language": "python",
   "name": "python3"
  },
  "language_info": {
   "codemirror_mode": {
    "name": "ipython",
    "version": 3
   },
   "file_extension": ".py",
   "mimetype": "text/x-python",
   "name": "python",
   "nbconvert_exporter": "python",
   "pygments_lexer": "ipython3",
   "version": "3.4.5"
  },
  "toc": {
   "colors": {
    "hover_highlight": "#DAA520",
    "navigate_num": "#000000",
    "navigate_text": "#333333",
    "running_highlight": "#FF0000",
    "selected_highlight": "#FFD700",
    "sidebar_border": "#EEEEEE",
    "wrapper_background": "#FFFFFF"
   },
   "moveMenuLeft": true,
   "nav_menu": {
    "height": "48px",
    "width": "252px"
   },
   "navigate_menu": true,
   "number_sections": true,
   "sideBar": true,
   "threshold": 4,
   "toc_cell": false,
   "toc_section_display": "block",
   "toc_window_display": false,
   "widenNotebook": false
  }
 },
 "nbformat": 4,
 "nbformat_minor": 2
}
