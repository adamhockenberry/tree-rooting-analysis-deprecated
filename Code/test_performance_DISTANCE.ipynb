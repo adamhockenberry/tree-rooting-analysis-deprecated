{
 "cells": [
  {
   "cell_type": "code",
   "execution_count": 1,
   "metadata": {
    "collapsed": true
   },
   "outputs": [],
   "source": [
    "%matplotlib inline"
   ]
  },
  {
   "cell_type": "code",
   "execution_count": 2,
   "metadata": {
    "collapsed": true
   },
   "outputs": [],
   "source": [
    "import glob\n",
    "from Bio import Phylo, SeqIO\n",
    "import pandas as pd\n",
    "import numpy as np\n",
    "from matplotlib import pyplot as plt\n",
    "\n",
    "from collections import defaultdict\n",
    "\n",
    "# from scipy import stats"
   ]
  },
  {
   "cell_type": "code",
   "execution_count": 3,
   "metadata": {
    "collapsed": false
   },
   "outputs": [
    {
     "name": "stdout",
     "output_type": "stream",
     "text": [
      "(400, 9)\n"
     ]
    },
    {
     "data": {
      "text/html": [
       "<div>\n",
       "<style>\n",
       "    .dataframe thead tr:only-child th {\n",
       "        text-align: right;\n",
       "    }\n",
       "\n",
       "    .dataframe thead th {\n",
       "        text-align: left;\n",
       "    }\n",
       "\n",
       "    .dataframe tbody tr th {\n",
       "        vertical-align: top;\n",
       "    }\n",
       "</style>\n",
       "<table border=\"1\" class=\"dataframe\">\n",
       "  <thead>\n",
       "    <tr style=\"text-align: right;\">\n",
       "      <th></th>\n",
       "      <th>monophyletic_clade</th>\n",
       "      <th>other_clade</th>\n",
       "      <th>root_bl</th>\n",
       "      <th>monophyletic_total_bl</th>\n",
       "      <th>other_total_bl</th>\n",
       "      <th>total_tree_bl</th>\n",
       "      <th>total_n</th>\n",
       "      <th>monophyletic_n</th>\n",
       "      <th>other_n</th>\n",
       "    </tr>\n",
       "    <tr>\n",
       "      <th>Group_id</th>\n",
       "      <th></th>\n",
       "      <th></th>\n",
       "      <th></th>\n",
       "      <th></th>\n",
       "      <th></th>\n",
       "      <th></th>\n",
       "      <th></th>\n",
       "      <th></th>\n",
       "      <th></th>\n",
       "    </tr>\n",
       "  </thead>\n",
       "  <tbody>\n",
       "    <tr>\n",
       "      <th>OMAGroup_789494</th>\n",
       "      <td>IntNode_3</td>\n",
       "      <td>IntNode_88</td>\n",
       "      <td>1.49293</td>\n",
       "      <td>69.00150</td>\n",
       "      <td>56.46590</td>\n",
       "      <td>126.96033</td>\n",
       "      <td>194.0</td>\n",
       "      <td>89.0</td>\n",
       "      <td>105.0</td>\n",
       "    </tr>\n",
       "    <tr>\n",
       "      <th>OMAGroup_555430</th>\n",
       "      <td>IntNode_46</td>\n",
       "      <td>IntNode_73</td>\n",
       "      <td>1.00116</td>\n",
       "      <td>30.16103</td>\n",
       "      <td>38.54124</td>\n",
       "      <td>69.70343</td>\n",
       "      <td>222.0</td>\n",
       "      <td>94.0</td>\n",
       "      <td>128.0</td>\n",
       "    </tr>\n",
       "    <tr>\n",
       "      <th>OMAGroup_828657</th>\n",
       "      <td>IntNode_43</td>\n",
       "      <td>IntNode_49</td>\n",
       "      <td>0.97504</td>\n",
       "      <td>16.43967</td>\n",
       "      <td>28.31956</td>\n",
       "      <td>45.73427</td>\n",
       "      <td>172.0</td>\n",
       "      <td>50.0</td>\n",
       "      <td>122.0</td>\n",
       "    </tr>\n",
       "    <tr>\n",
       "      <th>OMAGroup_804387</th>\n",
       "      <td>IntNode_48</td>\n",
       "      <td>IntNode_76</td>\n",
       "      <td>0.37875</td>\n",
       "      <td>20.59071</td>\n",
       "      <td>17.27605</td>\n",
       "      <td>38.24551</td>\n",
       "      <td>233.0</td>\n",
       "      <td>97.0</td>\n",
       "      <td>136.0</td>\n",
       "    </tr>\n",
       "    <tr>\n",
       "      <th>OMAGroup_809161</th>\n",
       "      <td>IntNode_3</td>\n",
       "      <td>IntNode_95</td>\n",
       "      <td>3.04869</td>\n",
       "      <td>32.59700</td>\n",
       "      <td>28.92590</td>\n",
       "      <td>64.57159</td>\n",
       "      <td>213.0</td>\n",
       "      <td>96.0</td>\n",
       "      <td>117.0</td>\n",
       "    </tr>\n",
       "    <tr>\n",
       "      <th>OMAGroup_839524</th>\n",
       "      <td>IntNode_42</td>\n",
       "      <td>IntNode_67</td>\n",
       "      <td>1.74309</td>\n",
       "      <td>17.51860</td>\n",
       "      <td>17.52166</td>\n",
       "      <td>36.78335</td>\n",
       "      <td>191.0</td>\n",
       "      <td>68.0</td>\n",
       "      <td>123.0</td>\n",
       "    </tr>\n",
       "    <tr>\n",
       "      <th>OMAGroup_840929</th>\n",
       "      <td>IntNode_65</td>\n",
       "      <td>IntNode_88</td>\n",
       "      <td>0.32456</td>\n",
       "      <td>17.32818</td>\n",
       "      <td>19.81383</td>\n",
       "      <td>37.46657</td>\n",
       "      <td>210.0</td>\n",
       "      <td>88.0</td>\n",
       "      <td>122.0</td>\n",
       "    </tr>\n",
       "    <tr>\n",
       "      <th>OMAGroup_677247</th>\n",
       "      <td>IntNode_4</td>\n",
       "      <td>IntNode_64</td>\n",
       "      <td>1.59976</td>\n",
       "      <td>50.28686</td>\n",
       "      <td>35.68908</td>\n",
       "      <td>87.57570</td>\n",
       "      <td>178.0</td>\n",
       "      <td>89.0</td>\n",
       "      <td>89.0</td>\n",
       "    </tr>\n",
       "    <tr>\n",
       "      <th>OMAGroup_692878</th>\n",
       "      <td>IntNode_67</td>\n",
       "      <td>IntNode_92</td>\n",
       "      <td>0.44295</td>\n",
       "      <td>12.02369</td>\n",
       "      <td>15.02454</td>\n",
       "      <td>27.49118</td>\n",
       "      <td>229.0</td>\n",
       "      <td>93.0</td>\n",
       "      <td>136.0</td>\n",
       "    </tr>\n",
       "    <tr>\n",
       "      <th>OMAGroup_696620</th>\n",
       "      <td>IntNode_49</td>\n",
       "      <td>IntNode_57</td>\n",
       "      <td>1.35193</td>\n",
       "      <td>40.33939</td>\n",
       "      <td>35.36336</td>\n",
       "      <td>77.05468</td>\n",
       "      <td>194.0</td>\n",
       "      <td>74.0</td>\n",
       "      <td>120.0</td>\n",
       "    </tr>\n",
       "  </tbody>\n",
       "</table>\n",
       "</div>"
      ],
      "text/plain": [
       "                monophyletic_clade other_clade  root_bl  \\\n",
       "Group_id                                                  \n",
       "OMAGroup_789494          IntNode_3  IntNode_88  1.49293   \n",
       "OMAGroup_555430         IntNode_46  IntNode_73  1.00116   \n",
       "OMAGroup_828657         IntNode_43  IntNode_49  0.97504   \n",
       "OMAGroup_804387         IntNode_48  IntNode_76  0.37875   \n",
       "OMAGroup_809161          IntNode_3  IntNode_95  3.04869   \n",
       "OMAGroup_839524         IntNode_42  IntNode_67  1.74309   \n",
       "OMAGroup_840929         IntNode_65  IntNode_88  0.32456   \n",
       "OMAGroup_677247          IntNode_4  IntNode_64  1.59976   \n",
       "OMAGroup_692878         IntNode_67  IntNode_92  0.44295   \n",
       "OMAGroup_696620         IntNode_49  IntNode_57  1.35193   \n",
       "\n",
       "                 monophyletic_total_bl  other_total_bl  total_tree_bl  \\\n",
       "Group_id                                                                \n",
       "OMAGroup_789494               69.00150        56.46590      126.96033   \n",
       "OMAGroup_555430               30.16103        38.54124       69.70343   \n",
       "OMAGroup_828657               16.43967        28.31956       45.73427   \n",
       "OMAGroup_804387               20.59071        17.27605       38.24551   \n",
       "OMAGroup_809161               32.59700        28.92590       64.57159   \n",
       "OMAGroup_839524               17.51860        17.52166       36.78335   \n",
       "OMAGroup_840929               17.32818        19.81383       37.46657   \n",
       "OMAGroup_677247               50.28686        35.68908       87.57570   \n",
       "OMAGroup_692878               12.02369        15.02454       27.49118   \n",
       "OMAGroup_696620               40.33939        35.36336       77.05468   \n",
       "\n",
       "                 total_n  monophyletic_n  other_n  \n",
       "Group_id                                           \n",
       "OMAGroup_789494    194.0            89.0    105.0  \n",
       "OMAGroup_555430    222.0            94.0    128.0  \n",
       "OMAGroup_828657    172.0            50.0    122.0  \n",
       "OMAGroup_804387    233.0            97.0    136.0  \n",
       "OMAGroup_809161    213.0            96.0    117.0  \n",
       "OMAGroup_839524    191.0            68.0    123.0  \n",
       "OMAGroup_840929    210.0            88.0    122.0  \n",
       "OMAGroup_677247    178.0            89.0     89.0  \n",
       "OMAGroup_692878    229.0            93.0    136.0  \n",
       "OMAGroup_696620    194.0            74.0    120.0  "
      ]
     },
     "execution_count": 3,
     "metadata": {},
     "output_type": "execute_result"
    }
   ],
   "source": [
    "monophyly_df = pd.read_csv('../Data/OMA_group_data/eukaryotes/tree_monophyly.csv', index_col='Group_id')\n",
    "# monophyly_df = pd.read_csv('../Data/Tria_et_al_data/eukaryotes/tree_monophyly.csv', index_col='Group_id')\n",
    "print(monophyly_df.shape)\n",
    "monophyly_df.head(n=10)"
   ]
  },
  {
   "cell_type": "markdown",
   "metadata": {},
   "source": [
    "# Quantifying accuracy"
   ]
  },
  {
   "cell_type": "code",
   "execution_count": 79,
   "metadata": {
    "collapsed": false
   },
   "outputs": [],
   "source": [
    "orig_dir = '../Data/OMA_group_data/eukaryotes/processed_OMA_trees/*RootedNoZero.MPAJH'\n",
    "\n",
    "frac_to_analyze = 'frac0.9'\n",
    "prune_dir = '../Data/OMA_group_data/eukaryotes/pruned_OMA_trees/*.{}.*RootedNoZero.MPAJH'.format(frac_to_analyze)\n",
    "    \n",
    "methods = ['.MPAJH']\n",
    "\n",
    "# methods = ['.MPAJH', '.MinVarAJH']\n",
    "methods = ['.MPAJH',\\\n",
    "           '.MinVarAJH', '.MinVarGSCAJH', '.MinVarGSCnAJH', '.MinVarHHAJH',\\\n",
    "          '.MADAJH', '.MADweightAJH', '.MADweightNormedAJH']\n",
    "results_dict = defaultdict(list)\n",
    "\n",
    "for prune_loc in glob.glob(prune_dir)[:]:\n",
    "    group = prune_loc.split('/')[-1].split('.')[0]\n",
    "    if type(monophyly_df.loc[group]['monophyletic_clade']) != str:\n",
    "        continue\n",
    "    correct_clade_a = monophyly_df.loc[group]['monophyletic_clade']\n",
    "    correct_clade_b = monophyly_df.loc[group]['other_clade']\n",
    "    correct_clades = [correct_clade_a, correct_clade_b]\n",
    "    correct_len = monophyly_df.loc[group]['root_bl']\n",
    "    for method in methods:\n",
    "        prune_tree = Phylo.read(prune_loc.replace('.MPAJH', method), 'newick', rooted=True)\n",
    "        correct = []\n",
    "        incorrect = []\n",
    "        for clade in prune_tree.root.clades:\n",
    "            if clade.name in correct_clades:\n",
    "                correct.append(clade)\n",
    "            else:\n",
    "                incorrect.append(clade)\n",
    "        ###Totally wrong\n",
    "        if len(correct) == 0:\n",
    "            results_dict[method].append(0) \n",
    "            \n",
    "        ###Nice and easy, correct\n",
    "        elif len(correct) == 2:\n",
    "            results_dict[method].append(1)\n",
    "            \n",
    "        ###These could be correct or incorrect and need more work\n",
    "        elif len(correct) == 1:\n",
    "            #Make sure the orientation is correct\n",
    "            if correct[0].name == monophyly_df.loc[group]['monophyletic_clade']:\n",
    "                if len(correct[0].get_terminals()) != int(monophyly_df.loc[group]['monophyletic_n']):\n",
    "                    results_dict[method].append(0)\n",
    "                else:\n",
    "                    if correct[0].branch_length < monophyly_df.loc[group]['root_bl']:\n",
    "                        results_dict[method].append(1)\n",
    "                    else:\n",
    "                        results_dict[method].append(0)\n",
    "            elif correct[0].name == monophyly_df.loc[group]['other_clade']:\n",
    "                if len(correct[0].get_terminals()) != int(monophyly_df.loc[group]['other_n']):\n",
    "                    results_dict[method].append(0)\n",
    "                else:\n",
    "                    if correct[0].branch_length < monophyly_df.loc[group]['root_bl']:\n",
    "                        results_dict[method].append(1)\n",
    "                    else:\n",
    "                        results_dict[method].append(0)\n",
    "        elif len(correct) > 2:\n",
    "            print('Total catastrophe here, investigate')\n",
    "\n",
    "\n",
    "        \n",
    "        \n",
    "        "
   ]
  },
  {
   "cell_type": "code",
   "execution_count": 80,
   "metadata": {
    "collapsed": false
   },
   "outputs": [
    {
     "name": "stdout",
     "output_type": "stream",
     "text": [
      ".MPAJH 221\n",
      ".MinVarAJH 243\n",
      ".MinVarGSCAJH 255\n",
      ".MinVarGSCnAJH 201\n",
      ".MinVarHHAJH 256\n",
      ".MADAJH 230\n",
      ".MADweightAJH 251\n",
      ".MADweightNormedAJH 248\n"
     ]
    }
   ],
   "source": [
    "for method in methods:\n",
    "    print(method, np.sum(results_dict[method]))"
   ]
  },
  {
   "cell_type": "code",
   "execution_count": 96,
   "metadata": {
    "collapsed": false
   },
   "outputs": [
    {
     "name": "stdout",
     "output_type": "stream",
     "text": [
      "0.37734585493709494 0.2428527568627451\n",
      "85.0 114.5\n",
      "30.62062 26.923200000000005\n"
     ]
    }
   ],
   "source": [
    "print(np.nanmedian(monophyly_df['monophyletic_total_bl']/monophyly_df['monophyletic_n']),\\\n",
    "np.nanmedian(monophyly_df['other_total_bl']/monophyly_df['other_n']))\n",
    "\n",
    "print(np.nanmedian(monophyly_df['monophyletic_n']),\\\n",
    "np.nanmedian(monophyly_df['other_n']))\n",
    "\n",
    "\n",
    "print(np.nanmedian(monophyly_df['monophyletic_total_bl']),\\\n",
    "np.nanmedian(monophyly_df['other_total_bl']))"
   ]
  },
  {
   "cell_type": "code",
   "execution_count": 92,
   "metadata": {
    "collapsed": false
   },
   "outputs": [
    {
     "name": "stderr",
     "output_type": "stream",
     "text": [
      "/Users/adamhockenberry/.pyenv/versions/anaconda3-2.0.1/lib/python3.4/site-packages/scipy/stats/morestats.py:2391: RuntimeWarning: invalid value encountered in greater\n",
      "  r_plus = np.sum((d > 0) * r, axis=0)\n",
      "/Users/adamhockenberry/.pyenv/versions/anaconda3-2.0.1/lib/python3.4/site-packages/scipy/stats/morestats.py:2392: RuntimeWarning: invalid value encountered in less\n",
      "  r_minus = np.sum((d < 0) * r, axis=0)\n"
     ]
    },
    {
     "data": {
      "text/plain": [
       "WilcoxonResult(statistic=3904.0, pvalue=3.650684580834712e-55)"
      ]
     },
     "execution_count": 92,
     "metadata": {},
     "output_type": "execute_result"
    }
   ],
   "source": [
    "from scipy import stats\n",
    "stats.wilcoxon(monophyly_df['monophyletic_n']/monophyly_df['monophyletic_total_bl'],\\\n",
    "               monophyly_df['other_n']/monophyly_df['other_total_bl'])"
   ]
  },
  {
   "cell_type": "markdown",
   "metadata": {},
   "source": [
    "# I f'd this up but this should be a calculation of distance from balanced to un-balanced"
   ]
  },
  {
   "cell_type": "code",
   "execution_count": 12,
   "metadata": {
    "collapsed": false
   },
   "outputs": [
    {
     "name": "stdout",
     "output_type": "stream",
     "text": [
      "../Data/OMA_group_data/eukaryotes/processed_OMA_trees/OMAGroup_789494.treefile.RootedNoZero.MPAJH\n",
      "../Data/OMA_group_data/eukaryotes/processed_OMA_trees/OMAGroup_555430.treefile.RootedNoZero.MPAJH\n",
      "../Data/OMA_group_data/eukaryotes/processed_OMA_trees/OMAGroup_828657.treefile.RootedNoZero.MPAJH\n",
      "../Data/OMA_group_data/eukaryotes/processed_OMA_trees/OMAGroup_804387.treefile.RootedNoZero.MPAJH\n",
      "../Data/OMA_group_data/eukaryotes/processed_OMA_trees/OMAGroup_809161.treefile.RootedNoZero.MPAJH\n",
      "../Data/OMA_group_data/eukaryotes/processed_OMA_trees/OMAGroup_839524.treefile.RootedNoZero.MPAJH\n",
      "../Data/OMA_group_data/eukaryotes/processed_OMA_trees/OMAGroup_840929.treefile.RootedNoZero.MPAJH\n",
      "../Data/OMA_group_data/eukaryotes/processed_OMA_trees/OMAGroup_677247.treefile.RootedNoZero.MPAJH\n",
      "../Data/OMA_group_data/eukaryotes/processed_OMA_trees/OMAGroup_692878.treefile.RootedNoZero.MPAJH\n",
      "../Data/OMA_group_data/eukaryotes/processed_OMA_trees/OMAGroup_696620.treefile.RootedNoZero.MPAJH\n"
     ]
    }
   ],
   "source": [
    "orig_dir = '../Data/OMA_group_data/eukaryotes/processed_OMA_trees/*RootedNoZero.MPAJH'\n",
    "prune_dir = '../Data/OMA_group_data/eukaryotes/pruned_OMA_trees/'\n",
    "methods = ['.MPAJH']\n",
    "\n",
    "methods = ['.MPAJH', '.MinVarAJH']\n",
    "# methods = ['.MPAJH',\\\n",
    "#            '.MinVarAJH', '.MinVarGSCAJH', '.MinVarGSCnAJH', '.MinVarHHAJH',\\\n",
    "#           '.MADAJH', '.MADweightAJH', '.MADweightNormedAJH']\n",
    "results_dict = defaultdict(list)\n",
    "\n",
    "for tree_loc in glob.glob(orig_dir)[0:10]:\n",
    "    print(tree_loc)\n",
    "    group = tree_loc.split('/')[-1].split('.')[0]\n",
    "    prune_loc = prune_dir+'{}.{}.treefile.RootedNoZero.MPAJH'.format(group, 'frac0.5')\n",
    "    if type(monophyly_df.loc[group]['monophyletic_clade']) != str:\n",
    "        continue\n",
    "    for method in methods:\n",
    "        my_tree = Phylo.read(tree_loc.replace('.MPAJH', method), 'newick', rooted=True)\n",
    "        prune_tree = Phylo.read(prune_loc.replace('.MPAJH', method), 'newick', rooted=True)\n",
    "        my_tree_depths = my_tree.depths()\n",
    "        keys, vals = zip(*my_tree_depths.items())\n",
    "        new_keys = [i.name for i in keys]\n",
    "        my_tree_depths = dict(zip(new_keys, vals))\n",
    "        prune_tree_depths = prune_tree.depths()\n",
    "        keys, vals = zip(*prune_tree_depths.items())\n",
    "        new_keys = [i.name for i in keys]\n",
    "        prune_tree_depths = dict(zip(new_keys, vals))\n",
    "        dists = []\n",
    "        for terminal in my_tree.get_terminals():\n",
    "            if terminal.name in new_keys:\n",
    "                dists.append(my_tree_depths[terminal.name] - prune_tree_depths[terminal.name])\n",
    "        results_dict[method].append(np.max(np.abs(np.array(dists)))/prune_tree.total_branch_length())"
   ]
  },
  {
   "cell_type": "code",
   "execution_count": 11,
   "metadata": {
    "collapsed": false
   },
   "outputs": [
    {
     "name": "stdout",
     "output_type": "stream",
     "text": [
      ".MPAJH \t 0.0011170873781810083\n",
      ".MinVarAJH \t 0.0001848194861628677\n",
      ".MinVarGSCAJH \t 0.003171965064237437\n",
      ".MinVarGSCnAJH \t 0.0018180184645839282\n",
      ".MinVarHHAJH \t 0.00034536483313156745\n",
      ".MADAJH \t 0.00017073605193285924\n",
      ".MADweightAJH \t 0.00023308774392879672\n",
      ".MADweightNormedAJH \t 0.00021901433790349258\n"
     ]
    }
   ],
   "source": [
    "#0.05\n",
    "for method in methods:\n",
    "    print(method, '\\t', np.mean(results_dict[method]))"
   ]
  },
  {
   "cell_type": "code",
   "execution_count": 83,
   "metadata": {
    "collapsed": false
   },
   "outputs": [
    {
     "name": "stdout",
     "output_type": "stream",
     "text": [
      ".MPAJH \t 0.00798321908574\n",
      ".MinVarAJH \t 0.00952432724694\n",
      ".MinVarGSCAJH \t 0.00904352593287\n",
      ".MinVarGSCnAJH \t 0.0219535140512\n",
      ".MinVarHHAJH \t 0.00745206131049\n",
      ".MADAJH \t 0.0123741288923\n",
      ".MADweightAJH \t 0.00825105637581\n",
      ".MADweightNormedAJH \t 0.00966480962016\n"
     ]
    }
   ],
   "source": [
    "#0.95\n",
    "# for method in methods:\n",
    "#     print(method, '\\t', np.mean(results_dict[method]))"
   ]
  },
  {
   "cell_type": "code",
   "execution_count": 102,
   "metadata": {
    "collapsed": false
   },
   "outputs": [
    {
     "data": {
      "text/plain": [
       "(191,)"
      ]
     },
     "execution_count": 102,
     "metadata": {},
     "output_type": "execute_result"
    },
    {
     "data": {
      "image/png": "[encoded data removed]",
      "text/plain": [
       "<matplotlib.figure.Figure at 0x11a724470>"
      ]
     },
     "metadata": {},
     "output_type": "display_data"
    }
   ],
   "source": [
    "a = '.MinVarAJH'\n",
    "b = '.MinVarGSCnAJH'\n",
    "fig, ax = plt.subplots()\n",
    "ax.hist(np.array(results_dict[a])-np.array(results_dict[b]), 30)\n",
    "np.where(np.array(results_dict[a])-np.array(results_dict[b]) > 0.)[0].shape"
   ]
  },
  {
   "cell_type": "code",
   "execution_count": 48,
   "metadata": {
    "collapsed": false
   },
   "outputs": [],
   "source": [
    "   "
   ]
  },
  {
   "cell_type": "code",
   "execution_count": 50,
   "metadata": {
    "collapsed": false
   },
   "outputs": [
    {
     "name": "stdout",
     "output_type": "stream",
     "text": [
      "0.49851\n",
      "0.49851\n",
      "0.49851\n",
      "0.49851\n",
      "0.49851\n",
      "0.49851\n",
      "0.49851\n",
      "0.49851\n",
      "0.49851\n",
      "0.49851\n",
      "0.49851\n",
      "0.49851\n",
      "0.49851\n",
      "0.49851000000000023\n",
      "0.49851000000000023\n",
      "0.49851000000000023\n",
      "0.49851\n",
      "0.49851\n",
      "0.49851\n",
      "0.49851\n",
      "0.49851\n",
      "0.4985099999999998\n",
      "0.4985099999999999\n",
      "0.4985099999999998\n",
      "0.4985099999999998\n",
      "0.49851\n",
      "0.49851\n",
      "0.4985099999999998\n",
      "0.4985099999999998\n",
      "0.4985099999999998\n",
      "0.4985099999999998\n",
      "0.4985099999999998\n",
      "0.4985099999999998\n",
      "0.4985099999999998\n",
      "0.4985099999999998\n",
      "0.4985099999999998\n",
      "0.49851\n",
      "0.49851\n",
      "0.49851\n",
      "0.49851\n",
      "0.49851000000000023\n",
      "0.49851\n",
      "0.49851\n",
      "0.4985099999999998\n",
      "0.4985099999999998\n",
      "0.49851\n",
      "0.49851\n",
      "0.4985099999999998\n",
      "0.49851\n",
      "0.49851\n",
      "0.49851\n",
      "0.49851\n",
      "-0.49851000000000023\n",
      "-0.49851\n",
      "-0.49851\n"
     ]
    }
   ],
   "source": [
    "for terminal in my_tree.get_terminals():\n",
    "    if terminal.name in new_keys:\n",
    "        print(my_tree_depths[terminal.name] - prune_tree_depths[terminal.name])"
   ]
  },
  {
   "cell_type": "code",
   "execution_count": null,
   "metadata": {
    "collapsed": true
   },
   "outputs": [],
   "source": []
  },
  {
   "cell_type": "code",
   "execution_count": 16,
   "metadata": {
    "collapsed": false
   },
   "outputs": [
    {
     "ename": "NameError",
     "evalue": "name 'np' is not defined",
     "output_type": "error",
     "traceback": [
      "\u001b[0;31m---------------------------------------------------------------------------\u001b[0m",
      "\u001b[0;31mNameError\u001b[0m                                 Traceback (most recent call last)",
      "\u001b[0;32m<ipython-input-16-da55860b0ac2>\u001b[0m in \u001b[0;36m<module>\u001b[0;34m()\u001b[0m\n\u001b[1;32m     14\u001b[0m \u001b[0;34m\u001b[0m\u001b[0m\n\u001b[1;32m     15\u001b[0m \u001b[0;32mfor\u001b[0m \u001b[0mmethod\u001b[0m \u001b[0;32min\u001b[0m \u001b[0mmethods\u001b[0m\u001b[0;34m:\u001b[0m\u001b[0;34m\u001b[0m\u001b[0m\n\u001b[0;32m---> 16\u001b[0;31m     \u001b[0mmonophyly_df\u001b[0m\u001b[0;34m[\u001b[0m\u001b[0;34m'{}_success'\u001b[0m\u001b[0;34m.\u001b[0m\u001b[0mformat\u001b[0m\u001b[0;34m(\u001b[0m\u001b[0mmethod\u001b[0m\u001b[0;34m)\u001b[0m\u001b[0;34m]\u001b[0m \u001b[0;34m=\u001b[0m \u001b[0mnp\u001b[0m\u001b[0;34m.\u001b[0m\u001b[0mnan\u001b[0m\u001b[0;34m\u001b[0m\u001b[0m\n\u001b[0m\u001b[1;32m     17\u001b[0m \u001b[0;34m\u001b[0m\u001b[0m\n\u001b[1;32m     18\u001b[0m \u001b[0mtrees_tested\u001b[0m \u001b[0;34m=\u001b[0m \u001b[0;34m[\u001b[0m\u001b[0;34m]\u001b[0m\u001b[0;34m\u001b[0m\u001b[0m\n",
      "\u001b[0;31mNameError\u001b[0m: name 'np' is not defined"
     ]
    }
   ],
   "source": [
    "# trees_dir = '../Data/OMA_group_data/eukaryotes/processed_OMA_trees/*treefile.RootedNoZero.MPAJH'\n",
    "# trees_dir = '../Data/OMA_group_data/eukaryotes/processed_OMA_trees/*Terms.Rooted.MPAJH'\n",
    "# trees_dir = '../Data/OMA_group_data/eukaryotes/pruned_OMA_trees/*frac0.05*treefile.RootedNoZero.MPAJH'\n",
    "# trees_dir = '../Data/OMA_group_data/eukaryotes/pruned_OMA_trees/*frac0.5*treefile.RootedNoZero.MPAJH'\n",
    "# trees_dir = '../Data/OMA_group_data/eukaryotes/pruned_OMA_trees/*frac0.95*treefile.RootedNoZero.MPAJH'\n",
    "# trees_dir = '../Data/Tria_et_al_data/eukaryotes/processed_trees/*treefile.RootedNoZero.MPAJH'\n",
    "trees_dir = '../Data/Tria_et_al_data/eukaryotes/pruned_trees/*frac0.9*treefile.RootedNoZero.MPAJH'\n",
    "\n",
    "\n",
    "# methods = ['.MPAJH','.MinVarAJH', '.MADAJH']\n",
    "methods = ['.MPAJH',\\\n",
    "           '.MinVarAJH', '.MinVarGSCAJH', '.MinVarGSCnAJH', '.MinVarHHAJH',\\\n",
    "          '.MADAJH', '.MADweightAJH', '.MADweightNormedAJH']\n",
    "# methods = ['.MPAJH',\\\n",
    "#            '.MinVarAJH', '.MinVarGSCAJH', '.MinVarGSCnAJH', '.MinVarHHAJH']\n",
    "\n",
    "for method in methods:\n",
    "    monophyly_df['{}_success'.format(method)] = np.nan\n",
    "\n",
    "trees_tested = []\n",
    "\n",
    "for tree_loc in glob.glob(trees_dir)[:]:\n",
    "#     print(tree_loc)\n",
    "    group = tree_loc.split('/')[-1].split('.')[0]\n",
    "    if type(monophyly_df.loc[group]['monophyletic_clade']) != str:\n",
    "        continue\n",
    "    for method in methods:\n",
    "        my_tree = Phylo.read(tree_loc.replace('.MPAJH', method), 'newick', rooted=True)\n",
    "        internals = [i.name for i in my_tree.get_nonterminals()]\n",
    "        assert monophyly_df.loc[group]['monophyletic_clade'] in internals\n",
    "        assert monophyly_df.loc[group]['other_clade'] in internals\n",
    "        if monophyly_df.loc[group]['monophyletic_clade'] in [clade.name for clade in my_tree.root.clades] \\\n",
    "        and monophyly_df.loc[group]['other_clade'] in [clade.name for clade in my_tree.root.clades]:\n",
    "            monophyly_df.set_value(group, '{}_success'.format(method), 1)\n",
    "        else:\n",
    "            monophyly_df.set_value(group, '{}_success'.format(method), 0)\n",
    "    trees_tested.append(tree_loc)"
   ]
  },
  {
   "cell_type": "code",
   "execution_count": null,
   "metadata": {
    "collapsed": true
   },
   "outputs": [],
   "source": []
  }
 ],
 "metadata": {
  "kernelspec": {
   "display_name": "Python 3",
   "language": "python",
   "name": "python3"
  },
  "language_info": {
   "codemirror_mode": {
    "name": "ipython",
    "version": 3
   },
   "file_extension": ".py",
   "mimetype": "text/x-python",
   "name": "python",
   "nbconvert_exporter": "python",
   "pygments_lexer": "ipython3",
   "version": "3.4.5"
  },
  "toc": {
   "colors": {
    "hover_highlight": "#DAA520",
    "navigate_num": "#000000",
    "navigate_text": "#333333",
    "running_highlight": "#FF0000",
    "selected_highlight": "#FFD700",
    "sidebar_border": "#EEEEEE",
    "wrapper_background": "#FFFFFF"
   },
   "moveMenuLeft": true,
   "nav_menu": {
    "height": "12px",
    "width": "252px"
   },
   "navigate_menu": true,
   "number_sections": true,
   "sideBar": true,
   "threshold": 4,
   "toc_cell": false,
   "toc_section_display": "block",
   "toc_window_display": false,
   "widenNotebook": false
  }
 },
 "nbformat": 4,
 "nbformat_minor": 2
}
