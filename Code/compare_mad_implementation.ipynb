{
 "cells": [
  {
   "cell_type": "code",
   "execution_count": 1,
   "metadata": {},
   "outputs": [],
   "source": [
    "%matplotlib inline"
   ]
  },
  {
   "cell_type": "code",
   "execution_count": 2,
   "metadata": {},
   "outputs": [],
   "source": [
    "from Bio import Phylo\n",
    "import glob"
   ]
  },
  {
   "cell_type": "markdown",
   "metadata": {},
   "source": [
    "**Ensure that the two MAD methods produce comparable results**\n",
    "\n",
    "Where comparable here is judged by whether the root branch (not necessarily location on the branch) is identical or not"
   ]
  },
  {
   "cell_type": "code",
   "execution_count": 3,
   "metadata": {},
   "outputs": [],
   "source": [
    "# loc_tria = '../Data/Tria_et_al_data/eukaryotes/ingroup/phyml/*.rooted'\n",
    "# loc_ajh = '../Data/Tria_et_al_data/eukaryotes/processed_trees/{}.treefile.RootedNoZero.MADAJH'\n",
    "# loc_tria = '../Data/OMA_group_data/eukaryotes/raw_OMA_trees/*.rooted'\n",
    "# loc_ajh = '../Data/OMA_group_data/eukaryotes/processed_OMA_trees/{}.treefile.RootedNoZero.MADAJH'\n",
    "loc_tria = '../Data/Tria_et_al_data/eukaryotes/pruned_trees/*.rooted'\n",
    "loc_ajh = '../Data/Tria_et_al_data/eukaryotes/pruned_trees/{}.treefile.RootedNoZero.MADAJH'\n"
   ]
  },
  {
   "cell_type": "code",
   "execution_count": 13,
   "metadata": {},
   "outputs": [],
   "source": [
    "different = []\n",
    "ident = []\n",
    "for tria_file in glob.glob(loc_tria)[:]:\n",
    "    group_id = tria_file.split('/')[-1].split('.')[0]\n",
    "    ajh_file = loc_ajh.format(group_id)\n",
    "    try:\n",
    "        tria_tree = Phylo.read(tria_file, 'newick', rooted=True)\n",
    "        ajh_tree = Phylo.read(ajh_file, 'newick', rooted=True)\n",
    "    except (FileNotFoundError, ValueError):\n",
    "        continue\n",
    "    tria_terms = [[i.name for i in tria_tree.root.clades[0].get_terminals()],\\\n",
    "                  [i.name for i in tria_tree.root.clades[1].get_terminals()]]\n",
    "    ajh_terms = [[i.name for i in ajh_tree.root.clades[0].get_terminals()],\\\n",
    "                  [i.name for i in ajh_tree.root.clades[1].get_terminals()]]\n",
    "    \n",
    "    try:\n",
    "        assert (set(ajh_terms[0]) == set(tria_terms[1])) or (set(ajh_terms[1]) == set(tria_terms[1]))\n",
    "        ident.append(group_id)\n",
    "        #         ident.append(tria_tree.root.clades[0].branch_length - tria_tree.root.clades[1].branch_length)\n",
    "    except AssertionError:\n",
    "        different.append(group_id)\n",
    "        pass"
   ]
  },
  {
   "cell_type": "code",
   "execution_count": 9,
   "metadata": {},
   "outputs": [
    {
     "data": {
      "text/plain": [
       "(0, 0)"
      ]
     },
     "execution_count": 9,
     "metadata": {},
     "output_type": "execute_result"
    }
   ],
   "source": [
    "len(different), len(ident)"
   ]
  },
  {
   "cell_type": "code",
   "execution_count": null,
   "metadata": {},
   "outputs": [],
   "source": []
  },
  {
   "cell_type": "code",
   "execution_count": null,
   "metadata": {},
   "outputs": [],
   "source": [
    "for group_id in different:\n",
    "    print('##############', group_id)\n",
    "    orig_tree = Phylo.read('../Data/Tria_et_al_data/eukaryotes/ingroup/phyml/{}.faa.aln.nwk'.format(group_id), 'newick', rooted=True)\n",
    "    tria_tree = Phylo.read('../Data/Tria_et_al_data/eukaryotes/ingroup/phyml/{}.faa.aln.nwk.rooted'.format(group_id), 'newick', rooted=True)\n",
    "    ajh_tree = Phylo.read('../Data/Tria_et_al_data/eukaryotes/processed_trees/{}.treefile.RootedNoZero.MADAJH'.format(group_id), 'newick', rooted=True)\n",
    "    mp_tree = Phylo.read('../Data/Tria_et_al_data/eukaryotes/processed_trees/{}.treefile.RootedNoZero.MPAJH'.format(group_id), 'newick', rooted=True)\n",
    "    print(orig_tree.total_branch_length(), tria_tree.total_branch_length(),\\\n",
    "          ajh_tree.total_branch_length(), mp_tree.total_branch_length())\n",
    "    print(len(tria_tree.root.clades[0].get_terminals()), len(tria_tree.root.clades[1].get_terminals()))\n",
    "    print(len(ajh_tree.root.clades[0].get_terminals()), len(ajh_tree.root.clades[1].get_terminals()))"
   ]
  },
  {
   "cell_type": "code",
   "execution_count": null,
   "metadata": {},
   "outputs": [],
   "source": [
    "len(ajh_tree.root.clades[0].get_terminals()), len(ajh_tree.root.clades[1].get_terminals())"
   ]
  },
  {
   "cell_type": "code",
   "execution_count": null,
   "metadata": {},
   "outputs": [],
   "source": []
  },
  {
   "cell_type": "code",
   "execution_count": null,
   "metadata": {},
   "outputs": [],
   "source": [
    "tria_tree.root.branch_length, tria_tree.root.clades[0].branch_length, tria_tree.root.clades[1].branch_length"
   ]
  },
  {
   "cell_type": "code",
   "execution_count": null,
   "metadata": {},
   "outputs": [],
   "source": [
    "ajh_tree.root.branch_length, ajh_tree.root.clades[0].branch_length, ajh_tree.root.clades[1].branch_length"
   ]
  },
  {
   "cell_type": "code",
   "execution_count": null,
   "metadata": {},
   "outputs": [],
   "source": [
    "orig_tree.get_terminals()"
   ]
  },
  {
   "cell_type": "code",
   "execution_count": null,
   "metadata": {},
   "outputs": [],
   "source": []
  },
  {
   "cell_type": "code",
   "execution_count": null,
   "metadata": {},
   "outputs": [],
   "source": []
  },
  {
   "cell_type": "code",
   "execution_count": null,
   "metadata": {},
   "outputs": [],
   "source": []
  },
  {
   "cell_type": "code",
   "execution_count": null,
   "metadata": {},
   "outputs": [],
   "source": []
  },
  {
   "cell_type": "markdown",
   "metadata": {},
   "source": [
    "# Actually test accuracies the complicated way"
   ]
  },
  {
   "cell_type": "code",
   "execution_count": 122,
   "metadata": {},
   "outputs": [],
   "source": [
    "# trees_dir = '../Data/Tria_et_al_data/eukaryotes/pruned_trees/*frac0.95.*.rooted'\n",
    "trees_dir = '../Data/Tria_et_al_data/eukaryotes/pruned_trees/*frac0.95.*.MADAJH'"
   ]
  },
  {
   "cell_type": "code",
   "execution_count": 123,
   "metadata": {},
   "outputs": [],
   "source": [
    "subset_names = []\n",
    "with open('../Data/Tria_et_al_data/eukaryotes/ID_to_Species.txt', 'r') as infile:\n",
    "    texty = infile.readlines()\n",
    "    for line in texty[1:]:\n",
    "        sl = line.split('\\t')\n",
    "        if sl[2].strip() == 'f':\n",
    "            subset_names.append(sl[0].strip())"
   ]
  },
  {
   "cell_type": "code",
   "execution_count": 124,
   "metadata": {},
   "outputs": [
    {
     "name": "stdout",
     "output_type": "stream",
     "text": [
      "735 1365\n"
     ]
    }
   ],
   "source": [
    "accurate = 0\n",
    "totals = 0\n",
    "for tree_file in glob.glob(trees_dir)[:]:\n",
    "    try:\n",
    "        tree = Phylo.read(tree_file, 'newick', rooted=True)\n",
    "    except ValueError:\n",
    "        continue\n",
    "    terms = [[i.name for i in tree.root.clades[0].get_terminals()],\\\n",
    "                  [i.name for i in tree.root.clades[1].get_terminals()]]\n",
    "    if set(terms[0]).issubset(subset_names) and len(set(terms[1]).intersection(subset_names)) == 0:\n",
    "        accurate += 1\n",
    "    elif set(terms[1]).issubset(subset_names) and len(set(terms[0]).intersection(subset_names)) == 0:\n",
    "        accurate += 1\n",
    "    totals += 1\n",
    "\n",
    "        \n",
    "print(accurate, totals)"
   ]
  },
  {
   "cell_type": "code",
   "execution_count": null,
   "metadata": {},
   "outputs": [],
   "source": []
  },
  {
   "cell_type": "code",
   "execution_count": 25,
   "metadata": {},
   "outputs": [
    {
     "data": {
      "text/plain": [
       "False"
      ]
     },
     "execution_count": 25,
     "metadata": {},
     "output_type": "execute_result"
    }
   ],
   "source": [
    "set(['a', 'b', 'd']).issubset(['a', 'b', 'c'])"
   ]
  },
  {
   "cell_type": "code",
   "execution_count": 30,
   "metadata": {},
   "outputs": [
    {
     "data": {
      "text/plain": [
       "0"
      ]
     },
     "execution_count": 30,
     "metadata": {},
     "output_type": "execute_result"
    }
   ],
   "source": [
    "len(set(['f', 'e', 'd']).intersection(['a', 'b', 'c']))"
   ]
  },
  {
   "cell_type": "code",
   "execution_count": null,
   "metadata": {},
   "outputs": [],
   "source": []
  },
  {
   "cell_type": "code",
   "execution_count": null,
   "metadata": {},
   "outputs": [],
   "source": []
  },
  {
   "cell_type": "code",
   "execution_count": null,
   "metadata": {},
   "outputs": [],
   "source": [
    "for infile in glob.glob('../Data/Tria_et_al_data/eukaryotes/pruned_trees/*.MPAJH')[:]:\n",
    "    tree = Phylo.read(infile, 'newick', rooted=True)\n",
    "    assert tree.format('newick')[-10:] == ':0.00000;\\n'\n",
    "    with open(infile.replace('.MPAJH', '.MADFORMAT'), 'w') as outfile:\n",
    "        outfile.write(tree.format('newick')[:-10]+';\\n')\n"
   ]
  },
  {
   "cell_type": "code",
   "execution_count": null,
   "metadata": {},
   "outputs": [],
   "source": [
    "tree.format('newick')[-10:]"
   ]
  },
  {
   "cell_type": "code",
   "execution_count": null,
   "metadata": {},
   "outputs": [],
   "source": []
  }
 ],
 "metadata": {
  "kernelspec": {
   "display_name": "Python 3",
   "language": "python",
   "name": "python3"
  },
  "language_info": {
   "codemirror_mode": {
    "name": "ipython",
    "version": 3
   },
   "file_extension": ".py",
   "mimetype": "text/x-python",
   "name": "python",
   "nbconvert_exporter": "python",
   "pygments_lexer": "ipython3",
   "version": "3.7.3"
  }
 },
 "nbformat": 4,
 "nbformat_minor": 2
}
