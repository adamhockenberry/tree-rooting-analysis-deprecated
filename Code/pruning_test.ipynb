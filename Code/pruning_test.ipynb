{
 "cells": [
  {
   "cell_type": "code",
   "execution_count": 1,
   "metadata": {
    "collapsed": true
   },
   "outputs": [],
   "source": [
    "%matplotlib inline"
   ]
  },
  {
   "cell_type": "markdown",
   "metadata": {},
   "source": [
    "# Summary\n",
    "\n",
    "The point of this notebook, at the moment, is to test the robustness of MAD as a tree rooting algorithm against tree imbalance. I accomplish this by pruning leaves from one side of the known root node bifurcation and test the statbility of the MAD method"
   ]
  },
  {
   "cell_type": "code",
   "execution_count": 14,
   "metadata": {
    "collapsed": true
   },
   "outputs": [],
   "source": [
    "from Bio import Phylo,SeqIO\n",
    "import ete3"
   ]
  },
  {
   "cell_type": "code",
   "execution_count": 5,
   "metadata": {
    "collapsed": false
   },
   "outputs": [
    {
     "name": "stdout",
     "output_type": "stream",
     "text": [
      "31 29\n",
      "[Clade(branch_length=0.39997, name='7165'), Clade(branch_length=0.22209, name='121225'), Clade(branch_length=0.31391, name='7227'), Clade(branch_length=1.4545, name='6239'), Clade(branch_length=1.4797, name='7668'), Clade(branch_length=0.17959, name='7955'), Clade(branch_length=0.1081, name='8090'), Clade(branch_length=0.04264, name='8128'), Clade(branch_length=0.58316, name='8364'), Clade(branch_length=0.046878, name='9606'), Clade(branch_length=0.20971, name='10090'), Clade(branch_length=0.091113, name='30611'), Clade(branch_length=0.36682, name='4950'), Clade(branch_length=0.34936, name='284590'), Clade(branch_length=0.3, name='381046'), Clade(branch_length=0.25855, name='284593'), Clade(branch_length=0.27428, name='5507'), Clade(branch_length=0.27887, name='318829'), Clade(branch_length=0.18573, name='515849'), Clade(branch_length=0.045514, name='771870'), Clade(branch_length=0.018746, name='5141'), Clade(branch_length=0.20596, name='441959'), Clade(branch_length=0.1093, name='500485'), Clade(branch_length=0.17882, name='5057'), Clade(branch_length=0.37794, name='13684'), Clade(branch_length=0.1301, name='222929'), Clade(branch_length=0.20038, name='559298'), Clade(branch_length=0.032272, name='559305'), Clade(branch_length=0.042097, name='535722'), Clade(branch_length=0.27564, name='7425'), Clade(branch_length=0.18291, name='7460')]\n"
     ]
    }
   ],
   "source": [
    "tree = Phylo.read('../Tria_et_al_data/eukaryotes/ingroup/phyml/KOG0725.faa.aln.nwk', 'newick')\n",
    "# tree = Phylo.read('../Tria_et_al_data/eukaryotes/ingroup/mrbayes/KOG0725.faa.aln.nwk', 'newick', rooted=False)\n",
    "# tree = Phylo.read('../Tria_et_al_data/eukaryotes/outgroup/phyml/KOG0725.faa.aln.nwk', 'newick')\n",
    "print(len(tree.get_terminals()), len(tree.get_nonterminals()))\n",
    "print(tree.get_terminals())"
   ]
  },
  {
   "cell_type": "markdown",
   "metadata": {},
   "source": [
    "# Get some dictionaries to map the ID's correctly"
   ]
  },
  {
   "cell_type": "code",
   "execution_count": 6,
   "metadata": {
    "collapsed": false
   },
   "outputs": [
    {
     "name": "stdout",
     "output_type": "stream",
     "text": [
      "41\n"
     ]
    }
   ],
   "source": [
    "id_species_dict = {}\n",
    "with open('../Tria_et_al_data/eukaryotes/ID_to_Species.txt', 'r') as infile:\n",
    "    texty = infile.readlines()\n",
    "    for line in texty[1:]:\n",
    "        sl = line.split('\\t')\n",
    "        id_species_dict[sl[0]] = sl[1]\n",
    "print(len(id_species_dict.keys()))"
   ]
  },
  {
   "cell_type": "code",
   "execution_count": 7,
   "metadata": {
    "collapsed": false
   },
   "outputs": [
    {
     "name": "stdout",
     "output_type": "stream",
     "text": [
      "41\n"
     ]
    }
   ],
   "source": [
    "species_seqid_dict = {}\n",
    "with open('../Tria_et_al_data/eukaryotes/cluster_to_seqid.txt', 'r') as infile:\n",
    "    texty = infile.readlines()\n",
    "    for line in texty:\n",
    "        sl = line.split('\\t')\n",
    "        if sl[0] == 'KOG0725':\n",
    "            species_seqid_dict[sl[1]] = sl[2].strip()\n",
    "print(len(species_seqid_dict.keys()))"
   ]
  },
  {
   "cell_type": "code",
   "execution_count": 8,
   "metadata": {
    "collapsed": false
   },
   "outputs": [
    {
     "name": "stdout",
     "output_type": "stream",
     "text": [
      "6239.C01G12.5\n",
      "6239.C06B8.3\n",
      "6239.C06E4.3\n",
      "6239.C06E4.4\n",
      "6239.C17G10.8.2\n",
      "6239.C45B11.3.1\n",
      "6239.D1054.8\n",
      "6239.F02C12.2\n",
      "6239.F12E12.11\n",
      "6239.F12E12.12\n",
      "6239.F25D1.5\n",
      "6239.F26D2.15\n",
      "6239.F28H7.2\n",
      "6239.F36H9.3\n",
      "6239.F53C11.3\n",
      "6239.F54F3.4\n",
      "6239.F59E11.2\n",
      "6239.R05D8.10\n",
      "6239.R05D8.7\n",
      "6239.R05D8.8\n",
      "6239.R05D8.9\n",
      "6239.R08H2.1.1\n",
      "6239.R119.3.2\n",
      "6239.T01G6.1\n",
      "6239.T01G6.10\n",
      "6239.T05C12.3\n",
      "6239.W01C9.4\n",
      "6239.W03F9.9\n",
      "6239.Y32H12A.3.2\n",
      "6239.Y47G6A.21.1\n",
      "6239.Y47G6A.22.2\n",
      "6239.Y47G6A.4\n",
      "6239.Y59A8A.3.1\n",
      "6239.ZK816.5\n"
     ]
    }
   ],
   "source": [
    "all_alns_dict = {}\n",
    "all_alns = list(SeqIO.parse('../KOG0725.txt', 'fasta'))\n",
    "for aln in all_alns:\n",
    "    tax = aln.description.split('.')[0]\n",
    "    others = '.'.join(aln.description.split('.')[1:])\n",
    "    all_alns_dict[others] = aln\n",
    "    if aln.description.split('.')[0] == '6239':\n",
    "        print(aln.description)"
   ]
  },
  {
   "cell_type": "code",
   "execution_count": 9,
   "metadata": {
    "collapsed": false
   },
   "outputs": [
    {
     "data": {
      "text/plain": [
       "SeqRecord(seq=Seq('AFAKEGAKVIATDINEAKLQELEKYPXXXXXXXXXXXXXXXXXXXXXXXXXXXX...WSL', SingleLetterAlphabet()), id='10020.ENSDORP00000002122', name='10020.ENSDORP00000002122', description='10020.ENSDORP00000002122', dbxrefs=[])"
      ]
     },
     "execution_count": 9,
     "metadata": {},
     "output_type": "execute_result"
    }
   ],
   "source": [
    "all_alns[0]"
   ]
  },
  {
   "cell_type": "markdown",
   "metadata": {},
   "source": [
    "# Making sure I have the proper information about all tree members"
   ]
  },
  {
   "cell_type": "code",
   "execution_count": 12,
   "metadata": {
    "collapsed": false
   },
   "outputs": [
    {
     "name": "stdout",
     "output_type": "stream",
     "text": [
      "#####\n",
      "7165\n",
      "Anopheles_gambiae\n",
      "AGAP002521-PA\n",
      "#####\n",
      "121225\n",
      "Pediculus_humanus\n",
      "PHUM411900-PA\n",
      "#####\n",
      "7227\n",
      "Drosophila_melanogaster\n",
      "FBpp0078357\n",
      "#####\n",
      "6239\n",
      "Caenorhabditis_elegans\n",
      "F53C11.3\n",
      "#####\n",
      "7668\n",
      "Strongylocentrotus_purpuratus\n",
      "SPU_016826tr\n",
      "#####\n",
      "7955\n",
      "Danio_rerio\n",
      "ENSDARP00000066557\n",
      "#####\n",
      "8090\n",
      "Oryzias_latipes\n",
      "ENSORLP00000009413\n",
      "#####\n",
      "8128\n",
      "Oreochromis_niloticus\n",
      "ENSONIP00000025194\n",
      "#####\n",
      "8364\n",
      "Xenopus_(Silurana)_tropicalis\n",
      "ENSXETP00000022727\n",
      "#####\n",
      "9606\n",
      "Homo_sapiens\n",
      "ENSP00000219481\n",
      "#####\n",
      "10090\n",
      "Mus_musculus\n",
      "ENSMUSP00000045621\n",
      "#####\n",
      "30611\n",
      "Otolemur_garnettii\n",
      "ENSOGAP00000001446\n",
      "#####\n",
      "4950\n",
      "Torulaspora_delbrueckii\n",
      "XP_003678632.1\n",
      "#####\n",
      "284590\n",
      "Kluyveromyces_lactis_NRRL_Y_1140\n",
      "XP_453899.1\n",
      "#####\n",
      "381046\n",
      "Lachancea_thermotolerans\n",
      "XP_002552120.1\n",
      "#####\n",
      "284593\n",
      "Candida_glabrata_CBS_138\n",
      "XP_447149.1\n",
      "#####\n",
      "5507\n",
      "Fusarium_oxysporum\n",
      "FOXG_00645P0\n",
      "#####\n",
      "318829\n",
      "Magnaporthe_oryzae\n",
      "MGG_05138T0\n",
      "#####\n",
      "515849\n",
      "Podospora_anserina_S_mat\n",
      "XP_001903436.1\n",
      "#####\n",
      "771870\n",
      "Sordaria_macrospora_k_hell\n",
      "XP_003349725.1\n",
      "#####\n",
      "5141\n",
      "Neurospora_crassa\n",
      "EFNCRP00000008164\n",
      "#####\n",
      "441959\n",
      "Talaromyces_stipitatus_ATCC_10500\n",
      "XP_002487042.1\n",
      "#####\n",
      "500485\n",
      "Penicillium_chrysogenum_Wisconsin_54_1255\n",
      "XP_002565421.1\n",
      "#####\n",
      "5057\n",
      "Aspergillus_clavatus\n",
      "CADACLAP00000939\n",
      "#####\n",
      "13684\n",
      "Phaeosphaeria_nodorum\n",
      "SNOT_16378\n",
      "#####\n",
      "222929\n",
      "Coccidioides_posadasii_C735_delta_SOWgp\n",
      "XP_003069489.1\n",
      "#####\n",
      "559298\n",
      "Ajellomyces_dermatitidis_SLH14081\n",
      "XP_002625253.1\n",
      "#####\n",
      "559305\n",
      "Trichophyton_rubrum_CBS_118892\n",
      "XP_003234959.1\n",
      "#####\n",
      "535722\n",
      "Arthroderma_gypseum_CBS_118893\n",
      "XP_003173486.1\n",
      "#####\n",
      "7425\n",
      "Nasonia_vitripennis\n",
      "NV13026-PA\n",
      "#####\n",
      "7460\n",
      "Apis_mellifera\n",
      "GB16603-PA\n"
     ]
    }
   ],
   "source": [
    "for leaf in tree.get_terminals():\n",
    "    print('#####')\n",
    "    print(leaf.name)\n",
    "    print(id_species_dict[leaf.name])\n",
    "    print(species_seqid_dict[leaf.name])\n",
    "#     print(all_alns_dict[species_seqid_dict[leaf.name]].seq)"
   ]
  },
  {
   "cell_type": "code",
   "execution_count": null,
   "metadata": {
    "collapsed": true
   },
   "outputs": [],
   "source": []
  },
  {
   "cell_type": "markdown",
   "metadata": {},
   "source": [
    "# Reading/writing trees\n",
    "\n",
    "I noticed that MAD fails when I load in a Phylo object, and directly write it to a file. So I'm switching to ete3 for the same purpose"
   ]
  },
  {
   "cell_type": "code",
   "execution_count": 25,
   "metadata": {
    "collapsed": false
   },
   "outputs": [],
   "source": [
    "###Using Phylo\n",
    "# tree = Phylo.read('../Tria_et_al_data/eukaryotes/ingroup/phyml/KOG0725.faa.aln.nwk', 'newick')\n",
    "# Phylo.write(tree, '../test.phylo.newick', 'newick')\n",
    "# to_remove = ['30611', '10090',  '8364', '8128', '8090', '7227', '7165', '7425'] \n",
    "# for node in to_remove:\n",
    "#     print(len(tree.get_terminals()))\n",
    "#     tree.prune(node)\n",
    "# Phylo.write(tree, '../test.phylo.minus.newick', 'newick')"
   ]
  },
  {
   "cell_type": "code",
   "execution_count": 30,
   "metadata": {
    "collapsed": false,
    "scrolled": true
   },
   "outputs": [
    {
     "name": "stdout",
     "output_type": "stream",
     "text": [
      "Number of leaf nodes:\t31\n",
      "Total number of nodes:\t60\n",
      "Rooted:\tNo\n",
      "Most distant node:\t13684\n",
      "Max. distance:\t5.019279\n"
     ]
    }
   ],
   "source": [
    "###Using ete3\n",
    "tree = ete3.Tree('../Tria_et_al_data/eukaryotes/ingroup/phyml/KOG0725.faa.aln.nwk')\n",
    "tree.write(format=1, outfile=\"../test.ete3.newick\")\n",
    "tree.describe()"
   ]
  },
  {
   "cell_type": "markdown",
   "metadata": {},
   "source": [
    "ete3 allows a few methods to remove nodes. Actually, removing them is more complicated than creating a subset of tree that contains only the named nodes:\n",
    "\n",
    "    tree.prune(['30611', '10090', '38090', '8364', '8128', '8090', '7668'])\n",
    "\n",
    "but for now I'll work the the delete method\n",
    "\n",
    "**Note: what I want to do is get lists for all the eukaryotes and for all the fungi since this is the \"ground truth\" root. Next, I would ensure that both groups are monophyletic in the tree (because if not then 'true' root finding would seem impossible. Assuming groups are monophyletic, try removing a random few from each branch to imbalance the tree**"
   ]
  },
  {
   "cell_type": "code",
   "execution_count": 31,
   "metadata": {
    "collapsed": false
   },
   "outputs": [],
   "source": [
    "to_remove = ['30611', '10090',  '8364', '8128', '8090', '7227', '7165', '7425'] \n",
    "for i in to_remove:\n",
    "    G = tree.search_nodes(name=i)[0]\n",
    "    G.delete()\n",
    "tree.write(format=1, outfile=\"../test.ete3.minus.newick\")"
   ]
  },
  {
   "cell_type": "code",
   "execution_count": 32,
   "metadata": {
    "collapsed": false
   },
   "outputs": [
    {
     "name": "stdout",
     "output_type": "stream",
     "text": [
      "Number of leaf nodes:\t23\n",
      "Total number of nodes:\t45\n",
      "Rooted:\tYes\n",
      "Most distant node:\t13684\n",
      "Max. distance:\t4.593019\n"
     ]
    }
   ],
   "source": [
    "tree.describe()"
   ]
  },
  {
   "cell_type": "markdown",
   "metadata": {
    "collapsed": true
   },
   "source": [
    "# Offline: run the MAD program on the trees"
   ]
  },
  {
   "cell_type": "code",
   "execution_count": null,
   "metadata": {
    "collapsed": true
   },
   "outputs": [],
   "source": []
  },
  {
   "cell_type": "markdown",
   "metadata": {},
   "source": [
    "# Online: test how they did!\n",
    "\n",
    "Need to come up with a metric / automation method here"
   ]
  },
  {
   "cell_type": "code",
   "execution_count": 33,
   "metadata": {
    "collapsed": false
   },
   "outputs": [
    {
     "name": "stdout",
     "output_type": "stream",
     "text": [
      "[Clade(branch_length=0.211364), Clade(branch_length=1.79814)]\n"
     ]
    },
    {
     "data": {
      "image/png": "[encoded data removed]",
      "text/plain": [
       "<matplotlib.figure.Figure at 0x11bcc8ac8>"
      ]
     },
     "metadata": {},
     "output_type": "display_data"
    }
   ],
   "source": [
    "tree = Phylo.read('../test.ete3.newick.rooted', 'newick', rooted=True)\n",
    "print(tree.root.clades)\n",
    "Phylo.draw(tree)"
   ]
  },
  {
   "cell_type": "code",
   "execution_count": 40,
   "metadata": {
    "collapsed": false
   },
   "outputs": [
    {
     "name": "stdout",
     "output_type": "stream",
     "text": [
      "[Clade(branch_length=0.18069), Clade(branch_length=0.27564, name='7425'), Clade(branch_length=0.18291, name='7460')]\n"
     ]
    },
    {
     "data": {
      "image/png": "[encoded data removed]",
      "text/plain": [
       "<matplotlib.figure.Figure at 0x11fc187f0>"
      ]
     },
     "metadata": {},
     "output_type": "display_data"
    }
   ],
   "source": [
    "tree = Phylo.read('../test.ete3.newick', 'newick', rooted=True)\n",
    "# tree = Phylo.read('../test.ete3.minus.newick.rooted', 'newick', rooted=True)\n",
    "print(tree.root.clades)\n",
    "Phylo.draw(tree)"
   ]
  },
  {
   "cell_type": "code",
   "execution_count": 41,
   "metadata": {
    "collapsed": false
   },
   "outputs": [
    {
     "name": "stdout",
     "output_type": "stream",
     "text": [
      "3\n",
      "2\n",
      "2\n",
      "2\n",
      "2\n",
      "2\n",
      "2\n",
      "2\n",
      "2\n",
      "2\n",
      "2\n",
      "2\n",
      "2\n",
      "2\n",
      "2\n",
      "2\n",
      "2\n",
      "2\n",
      "2\n",
      "2\n",
      "2\n",
      "2\n",
      "2\n",
      "2\n",
      "2\n",
      "2\n",
      "2\n",
      "2\n",
      "2\n"
     ]
    }
   ],
   "source": [
    "for i in tree.get_nonterminals():\n",
    "    print(len(i.clades))"
   ]
  },
  {
   "cell_type": "code",
   "execution_count": null,
   "metadata": {
    "collapsed": true
   },
   "outputs": [],
   "source": []
  },
  {
   "cell_type": "code",
   "execution_count": null,
   "metadata": {
    "collapsed": true
   },
   "outputs": [],
   "source": []
  },
  {
   "cell_type": "code",
   "execution_count": null,
   "metadata": {
    "collapsed": true
   },
   "outputs": [],
   "source": []
  },
  {
   "cell_type": "code",
   "execution_count": null,
   "metadata": {
    "collapsed": true
   },
   "outputs": [],
   "source": []
  },
  {
   "cell_type": "markdown",
   "metadata": {},
   "source": [
    "# Pruning in bulk\n",
    "\n",
    "    metazoa = ['10090', '121225', '9606', '30611', '8364', '7955', '8128', '8090',\\\n",
    "          '7668', '7460', '7425', '7227', '7165', '6239']"
   ]
  },
  {
   "cell_type": "code",
   "execution_count": 54,
   "metadata": {
    "collapsed": true
   },
   "outputs": [],
   "source": [
    "import glob\n",
    "import random"
   ]
  },
  {
   "cell_type": "code",
   "execution_count": 74,
   "metadata": {
    "collapsed": false
   },
   "outputs": [
    {
     "name": "stdout",
     "output_type": "stream",
     "text": [
      "14 17\n"
     ]
    }
   ],
   "source": [
    "tree = ete3.Tree('../Tria_et_al_data/eukaryotes/ingroup/phyml/KOG0725.faa.aln.nwk')\n",
    "metazoa = ['10090', '121225', '9606', '30611', '8364', '7955', '8128', '8090',\\\n",
    "          '7668', '7460', '7425', '7227', '7165', '6239']\n",
    "not_metazoa = [i for i in tree.get_leaf_names() if i not in metazoa]\n",
    "print(len(metazoa), len(not_metazoa))"
   ]
  },
  {
   "cell_type": "code",
   "execution_count": 80,
   "metadata": {
    "collapsed": false
   },
   "outputs": [
    {
     "name": "stdout",
     "output_type": "stream",
     "text": [
      "../Tria_et_al_data/eukaryotes/ingroup/phyml/KOG0436.faa.aln.nwk\n",
      "../Tria_et_al_data/eukaryotes/ingroup/phyml/KOG0166.faa.aln.nwk\n",
      "../Tria_et_al_data/eukaryotes/ingroup/phyml/KOG0810.faa.aln.nwk\n",
      "../Tria_et_al_data/eukaryotes/ingroup/phyml/KOG2407.faa.aln.nwk\n",
      "../Tria_et_al_data/eukaryotes/ingroup/phyml/KOG3745.faa.aln.nwk\n",
      "../Tria_et_al_data/eukaryotes/ingroup/phyml/KOG2157.faa.aln.nwk\n",
      "../Tria_et_al_data/eukaryotes/ingroup/phyml/KOG2035.faa.aln.nwk\n",
      "../Tria_et_al_data/eukaryotes/ingroup/phyml/KOG1879.faa.aln.nwk\n",
      "../Tria_et_al_data/eukaryotes/ingroup/phyml/KOG0554.faa.aln.nwk\n",
      "../Tria_et_al_data/eukaryotes/ingroup/phyml/KOG0446.faa.aln.nwk\n",
      "../Tria_et_al_data/eukaryotes/ingroup/phyml/KOG1704.faa.aln.nwk\n",
      "../Tria_et_al_data/eukaryotes/ingroup/phyml/KOG0116.faa.aln.nwk\n",
      "../Tria_et_al_data/eukaryotes/ingroup/phyml/KOG3265.faa.aln.nwk\n",
      "../Tria_et_al_data/eukaryotes/ingroup/phyml/KOG0860.faa.aln.nwk\n",
      "../Tria_et_al_data/eukaryotes/ingroup/phyml/KOG0902.faa.aln.nwk\n",
      "../Tria_et_al_data/eukaryotes/ingroup/phyml/KOG2515.faa.aln.nwk\n",
      "../Tria_et_al_data/eukaryotes/ingroup/phyml/KOG3298.faa.aln.nwk\n",
      "../Tria_et_al_data/eukaryotes/ingroup/phyml/KOG1809.faa.aln.nwk\n",
      "../Tria_et_al_data/eukaryotes/ingroup/phyml/KOG1666.faa.aln.nwk\n",
      "../Tria_et_al_data/eukaryotes/ingroup/phyml/KOG0524.faa.aln.nwk\n",
      "../Tria_et_al_data/eukaryotes/ingroup/phyml/KOG2393.faa.aln.nwk\n",
      "../Tria_et_al_data/eukaryotes/ingroup/phyml/KOG1471.faa.aln.nwk\n",
      "../Tria_et_al_data/eukaryotes/ingroup/phyml/KOG0263.faa.aln.nwk\n",
      "../Tria_et_al_data/eukaryotes/ingroup/phyml/KOG2179.faa.aln.nwk\n",
      "../Tria_et_al_data/eukaryotes/ingroup/phyml/KOG1043.faa.aln.nwk\n",
      "../Tria_et_al_data/eukaryotes/ingroup/phyml/KOG0651.faa.aln.nwk\n",
      "../Tria_et_al_data/eukaryotes/ingroup/phyml/KOG0301.faa.aln.nwk\n",
      "../Tria_et_al_data/eukaryotes/ingroup/phyml/KOG2330.faa.aln.nwk\n",
      "../Tria_et_al_data/eukaryotes/ingroup/phyml/KOG0418.faa.aln.nwk\n",
      "../Tria_et_al_data/eukaryotes/ingroup/phyml/KOG1287.faa.aln.nwk\n",
      "../Tria_et_al_data/eukaryotes/ingroup/phyml/KOG0495.faa.aln.nwk\n",
      "../Tria_et_al_data/eukaryotes/ingroup/phyml/KOG2772.faa.aln.nwk\n",
      "../Tria_et_al_data/eukaryotes/ingroup/phyml/KOG2882.faa.aln.nwk\n",
      "../Tria_et_al_data/eukaryotes/ingroup/phyml/KOG1318.faa.aln.nwk\n",
      "../Tria_et_al_data/eukaryotes/ingroup/phyml/KOG0213.faa.aln.nwk\n",
      "../Tria_et_al_data/eukaryotes/ingroup/phyml/KOG0743.faa.aln.nwk\n",
      "../Tria_et_al_data/eukaryotes/ingroup/phyml/KOG2459.faa.aln.nwk\n",
      "../Tria_et_al_data/eukaryotes/ingroup/phyml/KOG0371.faa.aln.nwk\n",
      "../Tria_et_al_data/eukaryotes/ingroup/phyml/KOG3974.faa.aln.nwk\n",
      "../Tria_et_al_data/eukaryotes/ingroup/phyml/KOG2340.faa.aln.nwk\n",
      "../Tria_et_al_data/eukaryotes/ingroup/phyml/KOG4547.faa.aln.nwk\n",
      "../Tria_et_al_data/eukaryotes/ingroup/phyml/KOG4017.faa.aln.nwk\n",
      "../Tria_et_al_data/eukaryotes/ingroup/phyml/KOG3181.faa.aln.nwk\n",
      "../Tria_et_al_data/eukaryotes/ingroup/phyml/KOG2115.faa.aln.nwk\n",
      "../Tria_et_al_data/eukaryotes/ingroup/phyml/KOG3257.faa.aln.nwk\n",
      "../Tria_et_al_data/eukaryotes/ingroup/phyml/KOG3968.faa.aln.nwk\n",
      "../Tria_et_al_data/eukaryotes/ingroup/phyml/KOG0390.faa.aln.nwk\n",
      "../Tria_et_al_data/eukaryotes/ingroup/phyml/KOG1304.faa.aln.nwk\n",
      "../Tria_et_al_data/eukaryotes/ingroup/phyml/KOG0046.faa.aln.nwk\n",
      "../Tria_et_al_data/eukaryotes/ingroup/phyml/KOG1654.faa.aln.nwk\n",
      "../Tria_et_al_data/eukaryotes/ingroup/phyml/KOG4067.faa.aln.nwk\n",
      "../Tria_et_al_data/eukaryotes/ingroup/phyml/KOG2165.faa.aln.nwk\n",
      "../Tria_et_al_data/eukaryotes/ingroup/phyml/KOG0282.faa.aln.nwk\n",
      "../Tria_et_al_data/eukaryotes/ingroup/phyml/KOG1490.faa.aln.nwk\n",
      "../Tria_et_al_data/eukaryotes/ingroup/phyml/KOG0822.faa.aln.nwk\n",
      "../Tria_et_al_data/eukaryotes/ingroup/phyml/KOG3887.faa.aln.nwk\n",
      "../Tria_et_al_data/eukaryotes/ingroup/phyml/KOG0940.faa.aln.nwk\n",
      "../Tria_et_al_data/eukaryotes/ingroup/phyml/KOG2007.faa.aln.nwk\n",
      "../Tria_et_al_data/eukaryotes/ingroup/phyml/KOG2198.faa.aln.nwk\n",
      "../Tria_et_al_data/eukaryotes/ingroup/phyml/KOG1374.faa.aln.nwk\n",
      "../Tria_et_al_data/eukaryotes/ingroup/phyml/KOG0566.faa.aln.nwk\n",
      "../Tria_et_al_data/eukaryotes/ingroup/phyml/KOG0036.faa.aln.nwk\n",
      "../Tria_et_al_data/eukaryotes/ingroup/phyml/KOG2971.faa.aln.nwk\n",
      "../Tria_et_al_data/eukaryotes/ingroup/phyml/KOG1815.faa.aln.nwk\n",
      "../Tria_et_al_data/eukaryotes/ingroup/phyml/KOG2740.faa.aln.nwk\n",
      "../Tria_et_al_data/eukaryotes/ingroup/phyml/KOG2210.faa.aln.nwk\n",
      "../Tria_et_al_data/eukaryotes/ingroup/phyml/KOG0068.faa.aln.nwk\n",
      "../Tria_et_al_data/eukaryotes/ingroup/phyml/KOG0538.faa.aln.nwk\n",
      "../Tria_et_al_data/eukaryotes/ingroup/phyml/KOG2509.faa.aln.nwk\n",
      "../Tria_et_al_data/eukaryotes/ingroup/phyml/KOG2496.faa.aln.nwk\n",
      "../Tria_et_al_data/eukaryotes/ingroup/phyml/KOG2372.faa.aln.nwk\n",
      "../Tria_et_al_data/eukaryotes/ingroup/phyml/KOG3030.faa.aln.nwk\n",
      "../Tria_et_al_data/eukaryotes/ingroup/phyml/KOG1248.faa.aln.nwk\n",
      "../Tria_et_al_data/eukaryotes/ingroup/phyml/KOG2730.faa.aln.nwk\n",
      "../Tria_et_al_data/eukaryotes/ingroup/phyml/KOG0187.faa.aln.nwk\n",
      "../Tria_et_al_data/eukaryotes/ingroup/phyml/KOG2260.faa.aln.nwk\n",
      "../Tria_et_al_data/eukaryotes/ingroup/phyml/KOG0018.faa.aln.nwk\n",
      "../Tria_et_al_data/eukaryotes/ingroup/phyml/KOG0548.faa.aln.nwk\n",
      "../Tria_et_al_data/eukaryotes/ingroup/phyml/KOG1113.faa.aln.nwk\n",
      "../Tria_et_al_data/eukaryotes/ingroup/phyml/KOG0251.faa.aln.nwk\n",
      "../Tria_et_al_data/eukaryotes/ingroup/phyml/KOG1443.faa.aln.nwk\n",
      "../Tria_et_al_data/eukaryotes/ingroup/phyml/KOG0333.faa.aln.nwk\n",
      "../Tria_et_al_data/eukaryotes/ingroup/phyml/KOG1521.faa.aln.nwk\n",
      "../Tria_et_al_data/eukaryotes/ingroup/phyml/KOG3396.faa.aln.nwk\n",
      "../Tria_et_al_data/eukaryotes/ingroup/phyml/KOG1907.faa.aln.nwk\n",
      "../Tria_et_al_data/eukaryotes/ingroup/phyml/KOG3417.faa.aln.nwk\n",
      "../Tria_et_al_data/eukaryotes/ingroup/phyml/KOG3147.faa.aln.nwk\n",
      "../Tria_et_al_data/eukaryotes/ingroup/phyml/KOG0234.faa.aln.nwk\n",
      "../Tria_et_al_data/eukaryotes/ingroup/phyml/KOG1426.faa.aln.nwk\n",
      "../Tria_et_al_data/eukaryotes/ingroup/phyml/KOG3291.faa.aln.nwk\n",
      "../Tria_et_al_data/eukaryotes/ingroup/phyml/KOG0764.faa.aln.nwk\n",
      "../Tria_et_al_data/eukaryotes/ingroup/phyml/KOG0894.faa.aln.nwk\n",
      "../Tria_et_al_data/eukaryotes/ingroup/phyml/KOG1014.faa.aln.nwk\n",
      "../Tria_et_al_data/eukaryotes/ingroup/phyml/KOG0356.faa.aln.nwk\n",
      "../Tria_et_al_data/eukaryotes/ingroup/phyml/KOG0869.faa.aln.nwk\n",
      "../Tria_et_al_data/eukaryotes/ingroup/phyml/KOG1692.faa.aln.nwk\n",
      "../Tria_et_al_data/eukaryotes/ingroup/phyml/KOG2275.faa.aln.nwk\n",
      "../Tria_et_al_data/eukaryotes/ingroup/phyml/KOG3467.faa.aln.nwk\n",
      "../Tria_et_al_data/eukaryotes/ingroup/phyml/KOG2725.faa.aln.nwk\n",
      "../Tria_et_al_data/eukaryotes/ingroup/phyml/KOG1870.faa.aln.nwk\n",
      "../Tria_et_al_data/eukaryotes/ingroup/phyml/KOG0714.faa.aln.nwk\n",
      "../Tria_et_al_data/eukaryotes/ingroup/phyml/KOG1099.faa.aln.nwk\n",
      "../Tria_et_al_data/eukaryotes/ingroup/phyml/KOG0676.faa.aln.nwk\n",
      "../Tria_et_al_data/eukaryotes/ingroup/phyml/KOG0326.faa.aln.nwk\n",
      "../Tria_et_al_data/eukaryotes/ingroup/phyml/KOG2317.faa.aln.nwk\n",
      "../Tria_et_al_data/eukaryotes/ingroup/phyml/KOG1273.faa.aln.nwk\n",
      "../Tria_et_al_data/eukaryotes/ingroup/phyml/KOG3194.faa.aln.nwk\n",
      "../Tria_et_al_data/eukaryotes/ingroup/phyml/KOG1723.faa.aln.nwk\n",
      "../Tria_et_al_data/eukaryotes/ingroup/phyml/KOG4002.faa.aln.nwk\n",
      "../Tria_et_al_data/eukaryotes/ingroup/phyml/KOG0378.faa.aln.nwk\n",
      "../Tria_et_al_data/eukaryotes/ingroup/phyml/KOG2450.faa.aln.nwk\n",
      "../Tria_et_al_data/eukaryotes/ingroup/phyml/KOG2100.faa.aln.nwk\n",
      "../Tria_et_al_data/eukaryotes/ingroup/phyml/KOG3712.faa.aln.nwk\n",
      "../Tria_et_al_data/eukaryotes/ingroup/phyml/KOG1158.faa.aln.nwk\n",
      "../Tria_et_al_data/eukaryotes/ingroup/phyml/KOG2062.faa.aln.nwk\n",
      "../Tria_et_al_data/eukaryotes/ingroup/phyml/KOG0385.faa.aln.nwk\n",
      "../Tria_et_al_data/eukaryotes/ingroup/phyml/KOG1597.faa.aln.nwk\n",
      "../Tria_et_al_data/eukaryotes/ingroup/phyml/KOG3320.faa.aln.nwk\n",
      "../Tria_et_al_data/eukaryotes/ingroup/phyml/KOG0925.faa.aln.nwk\n",
      "../Tria_et_al_data/eukaryotes/ingroup/phyml/KOG3980.faa.aln.nwk\n",
      "../Tria_et_al_data/eukaryotes/ingroup/phyml/KOG2914.faa.aln.nwk\n",
      "../Tria_et_al_data/eukaryotes/ingroup/phyml/KOG1641.faa.aln.nwk\n",
      "../Tria_et_al_data/eukaryotes/ingroup/phyml/KOG1311.faa.aln.nwk\n",
      "../Tria_et_al_data/eukaryotes/ingroup/phyml/KOG3169.faa.aln.nwk\n",
      "../Tria_et_al_data/eukaryotes/ingroup/phyml/KOG2806.faa.aln.nwk\n",
      "../Tria_et_al_data/eukaryotes/ingroup/phyml/KOG1753.faa.aln.nwk\n",
      "../Tria_et_al_data/eukaryotes/ingroup/phyml/KOG2339.faa.aln.nwk\n",
      "../Tria_et_al_data/eukaryotes/ingroup/phyml/KOG2669.faa.aln.nwk\n",
      "../Tria_et_al_data/eukaryotes/ingroup/phyml/KOG0308.faa.aln.nwk\n",
      "../Tria_et_al_data/eukaryotes/ingroup/phyml/KOG0658.faa.aln.nwk\n",
      "../Tria_et_al_data/eukaryotes/ingroup/phyml/KOG2420.faa.aln.nwk\n",
      "../Tria_et_al_data/eukaryotes/ingroup/phyml/KOG1128.faa.aln.nwk\n",
      "../Tria_et_al_data/eukaryotes/ingroup/phyml/KOG0955.faa.aln.nwk\n",
      "../Tria_et_al_data/eukaryotes/ingroup/phyml/KOG2012.faa.aln.nwk\n",
      "../Tria_et_al_data/eukaryotes/ingroup/phyml/KOG2978.faa.aln.nwk\n",
      "../Tria_et_al_data/eukaryotes/ingroup/phyml/KOG2688.faa.aln.nwk\n",
      "../Tria_et_al_data/eukaryotes/ingroup/phyml/KOG4093.faa.aln.nwk\n",
      "../Tria_et_al_data/eukaryotes/ingroup/phyml/KOG1842.faa.aln.nwk\n",
      "../Tria_et_al_data/eukaryotes/ingroup/phyml/KOG0726.faa.aln.nwk\n",
      "../Tria_et_al_data/eukaryotes/ingroup/phyml/KOG0276.faa.aln.nwk\n",
      "../Tria_et_al_data/eukaryotes/ingroup/phyml/KOG3873.faa.aln.nwk\n",
      "../Tria_et_al_data/eukaryotes/ingroup/phyml/KOG3911.faa.aln.nwk\n",
      "../Tria_et_al_data/eukaryotes/ingroup/phyml/KOG1506.faa.aln.nwk\n",
      "../Tria_et_al_data/eukaryotes/ingroup/phyml/KOG1499.faa.aln.nwk\n",
      "../Tria_et_al_data/eukaryotes/ingroup/phyml/KOG1380.faa.aln.nwk\n",
      "../Tria_et_al_data/eukaryotes/ingroup/phyml/KOG0592.faa.aln.nwk\n",
      "../Tria_et_al_data/eukaryotes/ingroup/phyml/KOG2675.faa.aln.nwk\n",
      "../Tria_et_al_data/eukaryotes/ingroup/phyml/KOG1920.faa.aln.nwk\n",
      "../Tria_et_al_data/eukaryotes/ingroup/phyml/KOG2908.faa.aln.nwk\n",
      "../Tria_et_al_data/eukaryotes/ingroup/phyml/KOG2767.faa.aln.nwk\n",
      "../Tria_et_al_data/eukaryotes/ingroup/phyml/KOG0480.faa.aln.nwk\n",
      "../Tria_et_al_data/eukaryotes/ingroup/phyml/KOG0206.faa.aln.nwk\n",
      "../Tria_et_al_data/eukaryotes/ingroup/phyml/KOG0364.faa.aln.nwk\n",
      "../Tria_et_al_data/eukaryotes/ingroup/phyml/KOG3691.faa.aln.nwk\n",
      "../Tria_et_al_data/eukaryotes/ingroup/phyml/KOG3188.faa.aln.nwk\n",
      "../Tria_et_al_data/eukaryotes/ingroup/phyml/KOG1950.faa.aln.nwk\n",
      "../Tria_et_al_data/eukaryotes/ingroup/phyml/KOG3017.faa.aln.nwk\n",
      "../Tria_et_al_data/eukaryotes/ingroup/phyml/KOG0173.faa.aln.nwk\n",
      "../Tria_et_al_data/eukaryotes/ingroup/phyml/KOG2294.faa.aln.nwk\n",
      "../Tria_et_al_data/eukaryotes/ingroup/phyml/KOG2834.faa.aln.nwk\n",
      "../Tria_et_al_data/eukaryotes/ingroup/phyml/KOG3049.faa.aln.nwk\n",
      "../Tria_et_al_data/eukaryotes/ingroup/phyml/KOG4209.faa.aln.nwk\n",
      "../Tria_et_al_data/eukaryotes/ingroup/phyml/KOG3750.faa.aln.nwk\n",
      "../Tria_et_al_data/eukaryotes/ingroup/phyml/KOG0258.faa.aln.nwk\n",
      "../Tria_et_al_data/eukaryotes/ingroup/phyml/KOG2570.faa.aln.nwk\n",
      "../Tria_et_al_data/eukaryotes/ingroup/phyml/KOG2020.faa.aln.nwk\n",
      "../Tria_et_al_data/eukaryotes/ingroup/phyml/KOG0697.faa.aln.nwk\n",
      "../Tria_et_al_data/eukaryotes/ingroup/phyml/KOG0967.faa.aln.nwk\n",
      "../Tria_et_al_data/eukaryotes/ingroup/phyml/KOG1353.faa.aln.nwk\n",
      "../Tria_et_al_data/eukaryotes/ingroup/phyml/KOG0103.faa.aln.nwk\n",
      "../Tria_et_al_data/eukaryotes/ingroup/phyml/KOG1711.faa.aln.nwk\n",
      "../Tria_et_al_data/eukaryotes/ingroup/phyml/KOG0453.faa.aln.nwk\n",
      "../Tria_et_al_data/eukaryotes/ingroup/phyml/KOG1241.faa.aln.nwk\n",
      "../Tria_et_al_data/eukaryotes/ingroup/phyml/KOG1558.faa.aln.nwk\n",
      "../Tria_et_al_data/eukaryotes/ingroup/phyml/KOG0785.faa.aln.nwk\n",
      "../Tria_et_al_data/eukaryotes/ingroup/phyml/KOG0888.faa.aln.nwk\n",
      "../Tria_et_al_data/eukaryotes/ingroup/phyml/KOG0531.faa.aln.nwk\n",
      "../Tria_et_al_data/eukaryotes/ingroup/phyml/KOG2386.faa.aln.nwk\n",
      "../Tria_et_al_data/eukaryotes/ingroup/phyml/KOG0061.faa.aln.nwk\n",
      "../Tria_et_al_data/eukaryotes/ingroup/phyml/KOG2749.faa.aln.nwk\n",
      "../Tria_et_al_data/eukaryotes/ingroup/phyml/KOG2188.faa.aln.nwk\n",
      "../Tria_et_al_data/eukaryotes/ingroup/phyml/KOG2017.faa.aln.nwk\n",
      "../Tria_et_al_data/eukaryotes/ingroup/phyml/KOG3355.faa.aln.nwk\n",
      "../Tria_et_al_data/eukaryotes/ingroup/phyml/KOG3083.faa.aln.nwk\n",
      "../Tria_et_al_data/eukaryotes/ingroup/phyml/KOG1206.faa.aln.nwk\n",
      "../Tria_et_al_data/eukaryotes/ingroup/phyml/KOG0414.faa.aln.nwk\n",
      "../Tria_et_al_data/eukaryotes/ingroup/phyml/KOG1756.faa.aln.nwk\n",
      "../Tria_et_al_data/eukaryotes/ingroup/phyml/KOG2803.faa.aln.nwk\n",
      "../Tria_et_al_data/eukaryotes/ingroup/phyml/KOG1399.faa.aln.nwk\n",
      "../Tria_et_al_data/eukaryotes/ingroup/phyml/KOG4077.faa.aln.nwk\n",
      "../Tria_et_al_data/eukaryotes/ingroup/phyml/KOG0292.faa.aln.nwk\n",
      "../Tria_et_al_data/eukaryotes/ingroup/phyml/KOG2175.faa.aln.nwk\n",
      "../Tria_et_al_data/eukaryotes/ingroup/phyml/KOG3767.faa.aln.nwk\n",
      "../Tria_et_al_data/eukaryotes/ingroup/phyml/KOG0920.faa.aln.nwk\n",
      "../Tria_et_al_data/eukaryotes/ingroup/phyml/KOG3675.faa.aln.nwk\n",
      "../Tria_et_al_data/eukaryotes/ingroup/phyml/KOG2067.faa.aln.nwk\n",
      "../Tria_et_al_data/eukaryotes/ingroup/phyml/KOG3325.faa.aln.nwk\n",
      "../Tria_et_al_data/eukaryotes/ingroup/phyml/KOG2537.faa.aln.nwk\n",
      "../Tria_et_al_data/eukaryotes/ingroup/phyml/KOG0380.faa.aln.nwk\n",
      "../Tria_et_al_data/eukaryotes/ingroup/phyml/KOG1644.faa.aln.nwk\n",
      "../Tria_et_al_data/eukaryotes/ingroup/phyml/KOG1314.faa.aln.nwk\n",
      "../Tria_et_al_data/eukaryotes/ingroup/phyml/KOG2911.faa.aln.nwk\n",
      "../Tria_et_al_data/eukaryotes/ingroup/phyml/KOG4165.faa.aln.nwk\n",
      "../Tria_et_al_data/eukaryotes/ingroup/phyml/KOG2873.faa.aln.nwk\n",
      "../Tria_et_al_data/eukaryotes/ingroup/phyml/KOG2783.faa.aln.nwk\n",
      "../Tria_et_al_data/eukaryotes/ingroup/phyml/KOG2455.faa.aln.nwk\n",
      "../Tria_et_al_data/eukaryotes/ingroup/phyml/KOG3717.faa.aln.nwk\n",
      "../Tria_et_al_data/eukaryotes/ingroup/phyml/KOG0673.faa.aln.nwk\n",
      "../Tria_et_al_data/eukaryotes/ingroup/phyml/KOG1061.faa.aln.nwk\n",
      "../Tria_et_al_data/eukaryotes/ingroup/phyml/KOG0323.faa.aln.nwk\n",
      "../Tria_et_al_data/eukaryotes/ingroup/phyml/KOG3386.faa.aln.nwk\n",
      "../Tria_et_al_data/eukaryotes/ingroup/phyml/KOG1531.faa.aln.nwk\n",
      "../Tria_et_al_data/eukaryotes/ingroup/phyml/KOG1888.faa.aln.nwk\n",
      "../Tria_et_al_data/eukaryotes/ingroup/phyml/KOG2642.faa.aln.nwk\n",
      "../Tria_et_al_data/eukaryotes/ingroup/phyml/KOG1875.faa.aln.nwk\n",
      "../Tria_et_al_data/eukaryotes/ingroup/phyml/KOG2270.faa.aln.nwk\n",
      "../Tria_et_al_data/eukaryotes/ingroup/phyml/KOG3739.faa.aln.nwk\n",
      "../Tria_et_al_data/eukaryotes/ingroup/phyml/KOG1697.faa.aln.nwk\n",
      "../Tria_et_al_data/eukaryotes/ingroup/phyml/KOG3020.faa.aln.nwk\n",
      "../Tria_et_al_data/eukaryotes/ingroup/phyml/KOG2750.faa.aln.nwk\n",
      "../Tria_et_al_data/eukaryotes/ingroup/phyml/KOG1805.faa.aln.nwk\n",
      "../Tria_et_al_data/eukaryotes/ingroup/phyml/KOG3834.faa.aln.nwk\n",
      "../Tria_et_al_data/eukaryotes/ingroup/phyml/KOG0891.faa.aln.nwk\n",
      "../Tria_et_al_data/eukaryotes/ingroup/phyml/KOG0761.faa.aln.nwk\n",
      "../Tria_et_al_data/eukaryotes/ingroup/phyml/KOG2519.faa.aln.nwk\n",
      "../Tria_et_al_data/eukaryotes/ingroup/phyml/KOG2055.faa.aln.nwk\n",
      "../Tria_et_al_data/eukaryotes/ingroup/phyml/KOG1986.faa.aln.nwk\n",
      "../Tria_et_al_data/eukaryotes/ingroup/phyml/KOG2383.faa.aln.nwk\n",
      "../Tria_et_al_data/eukaryotes/ingroup/phyml/KOG0534.faa.aln.nwk\n",
      "../Tria_et_al_data/eukaryotes/ingroup/phyml/KOG0064.faa.aln.nwk\n",
      "../Tria_et_al_data/eukaryotes/ingroup/phyml/KOG4157.faa.aln.nwk\n",
      "../Tria_et_al_data/eukaryotes/ingroup/phyml/KOG1714.faa.aln.nwk\n",
      "../Tria_et_al_data/eukaryotes/ingroup/phyml/KOG0106.faa.aln.nwk\n",
      "../Tria_et_al_data/eukaryotes/ingroup/phyml/KOG2841.faa.aln.nwk\n",
      "../Tria_et_al_data/eukaryotes/ingroup/phyml/KOG4035.faa.aln.nwk\n",
      "../Tria_et_al_data/eukaryotes/ingroup/phyml/KOG0780.faa.aln.nwk\n",
      "../Tria_et_al_data/eukaryotes/ingroup/phyml/KOG2137.faa.aln.nwk\n",
      "../Tria_et_al_data/eukaryotes/ingroup/phyml/KOG3275.faa.aln.nwk\n",
      "../Tria_et_al_data/eukaryotes/ingroup/phyml/KOG0962.faa.aln.nwk\n",
      "../Tria_et_al_data/eukaryotes/ingroup/phyml/KOG1080.faa.aln.nwk\n",
      "../Tria_et_al_data/eukaryotes/ingroup/phyml/KOG0014.faa.aln.nwk\n",
      "../Tria_et_al_data/eukaryotes/ingroup/phyml/KOG0176.faa.aln.nwk\n",
      "../Tria_et_al_data/eukaryotes/ingroup/phyml/KOG2291.faa.aln.nwk\n",
      "../Tria_et_al_data/eukaryotes/ingroup/phyml/KOG0426.faa.aln.nwk\n",
      "../Tria_et_al_data/eukaryotes/ingroup/phyml/KOG1234.faa.aln.nwk\n",
      "../Tria_et_al_data/eukaryotes/ingroup/phyml/KOG2147.faa.aln.nwk\n",
      "../Tria_et_al_data/eukaryotes/ingroup/phyml/KOG3205.faa.aln.nwk\n",
      "../Tria_et_al_data/eukaryotes/ingroup/phyml/KOG0800.faa.aln.nwk\n",
      "../Tria_et_al_data/eukaryotes/ingroup/phyml/KOG2086.faa.aln.nwk\n",
      "../Tria_et_al_data/eukaryotes/ingroup/phyml/KOG0478.faa.aln.nwk\n",
      "../Tria_et_al_data/eukaryotes/ingroup/phyml/KOG0128.faa.aln.nwk\n",
      "../Tria_et_al_data/eukaryotes/ingroup/phyml/KOG2600.faa.aln.nwk\n",
      "../Tria_et_al_data/eukaryotes/ingroup/phyml/KOG2762.faa.aln.nwk\n",
      "../Tria_et_al_data/eukaryotes/ingroup/phyml/KOG1411.faa.aln.nwk\n",
      "../Tria_et_al_data/eukaryotes/ingroup/phyml/KOG2439.faa.aln.nwk\n",
      "../Tria_et_al_data/eukaryotes/ingroup/phyml/KOG2169.faa.aln.nwk\n",
      "../Tria_et_al_data/eukaryotes/ingroup/phyml/KOG2980.faa.aln.nwk\n",
      "../Tria_et_al_data/eukaryotes/ingroup/phyml/KOG2670.faa.aln.nwk\n",
      "../Tria_et_al_data/eukaryotes/ingroup/phyml/KOG1628.faa.aln.nwk\n",
      "../Tria_et_al_data/eukaryotes/ingroup/phyml/KOG3100.faa.aln.nwk\n",
      "../Tria_et_al_data/eukaryotes/ingroup/phyml/KOG1131.faa.aln.nwk\n",
      "../Tria_et_al_data/eukaryotes/ingroup/phyml/KOG1461.faa.aln.nwk\n",
      "../Tria_et_al_data/eukaryotes/ingroup/phyml/KOG1036.faa.aln.nwk\n",
      "../Tria_et_al_data/eukaryotes/ingroup/phyml/KOG1566.faa.aln.nwk\n",
      "../Tria_et_al_data/eukaryotes/ingroup/phyml/KOG3198.faa.aln.nwk\n",
      "../Tria_et_al_data/eukaryotes/ingroup/phyml/KOG1822.faa.aln.nwk\n",
      "../Tria_et_al_data/eukaryotes/ingroup/phyml/KOG2227.faa.aln.nwk\n",
      "../Tria_et_al_data/eukaryotes/ingroup/phyml/KOG0490.faa.aln.nwk\n",
      "../Tria_et_al_data/eukaryotes/ingroup/phyml/KOG1282.faa.aln.nwk\n",
      "../Tria_et_al_data/eukaryotes/ingroup/phyml/KOG3165.faa.aln.nwk\n",
      "../Tria_et_al_data/eukaryotes/ingroup/phyml/KOG2918.faa.aln.nwk\n",
      "../Tria_et_al_data/eukaryotes/ingroup/phyml/KOG0389.faa.aln.nwk\n",
      "../Tria_et_al_data/eukaryotes/ingroup/phyml/KOG0929.faa.aln.nwk\n",
      "../Tria_et_al_data/eukaryotes/ingroup/phyml/KOG0216.faa.aln.nwk\n",
      "../Tria_et_al_data/eukaryotes/ingroup/phyml/KOG1154.faa.aln.nwk\n",
      "../Tria_et_al_data/eukaryotes/ingroup/phyml/KOG0746.faa.aln.nwk\n",
      "../Tria_et_al_data/eukaryotes/ingroup/phyml/KOG1046.faa.aln.nwk\n",
      "../Tria_et_al_data/eukaryotes/ingroup/phyml/KOG0304.faa.aln.nwk\n",
      "../Tria_et_al_data/eukaryotes/ingroup/phyml/KOG3901.faa.aln.nwk\n",
      "../Tria_et_al_data/eukaryotes/ingroup/phyml/KOG3077.faa.aln.nwk\n",
      "../Tria_et_al_data/eukaryotes/ingroup/phyml/KOG1390.faa.aln.nwk\n",
      "../Tria_et_al_data/eukaryotes/ingroup/phyml/KOG2335.faa.aln.nwk\n",
      "../Tria_et_al_data/eukaryotes/ingroup/phyml/KOG2707.faa.aln.nwk\n",
      "../Tria_et_al_data/eukaryotes/ingroup/phyml/KOG2698.faa.aln.nwk\n",
      "../Tria_et_al_data/eukaryotes/ingroup/phyml/KOG2968.faa.aln.nwk\n",
      "../Tria_et_al_data/eukaryotes/ingroup/phyml/KOG0959.faa.aln.nwk\n",
      "../Tria_et_al_data/eukaryotes/ingroup/phyml/KOG0266.faa.aln.nwk\n",
      "../Tria_et_al_data/eukaryotes/ingroup/phyml/KOG1474.faa.aln.nwk\n",
      "../Tria_et_al_data/eukaryotes/ingroup/phyml/KOG1124.faa.aln.nwk\n",
      "../Tria_et_al_data/eukaryotes/ingroup/phyml/KOG0907.faa.aln.nwk\n",
      "../Tria_et_al_data/eukaryotes/ingroup/phyml/KOG0768.faa.aln.nwk\n",
      "../Tria_et_al_data/eukaryotes/ingroup/phyml/KOG0238.faa.aln.nwk\n",
      "../Tria_et_al_data/eukaryotes/ingroup/phyml/KOG0898.faa.aln.nwk\n",
      "../Tria_et_al_data/eukaryotes/ingroup/phyml/KOG2759.faa.aln.nwk\n",
      "../Tria_et_al_data/eukaryotes/ingroup/phyml/KOG2936.faa.aln.nwk\n",
      "../Tria_et_al_data/eukaryotes/ingroup/phyml/KOG4020.faa.aln.nwk\n",
      "../Tria_et_al_data/eukaryotes/ingroup/phyml/KOG0113.faa.aln.nwk\n",
      "../Tria_et_al_data/eukaryotes/ingroup/phyml/KOG2854.faa.aln.nwk\n",
      "../Tria_et_al_data/eukaryotes/ingroup/phyml/KOG2472.faa.aln.nwk\n",
      "../Tria_et_al_data/eukaryotes/ingroup/phyml/KOG0687.faa.aln.nwk\n",
      "../Tria_et_al_data/eukaryotes/ingroup/phyml/KOG2560.faa.aln.nwk\n",
      "../Tria_et_al_data/eukaryotes/ingroup/phyml/KOG2729.faa.aln.nwk\n",
      "../Tria_et_al_data/eukaryotes/ingroup/phyml/KOG0001.faa.aln.nwk\n",
      "../Tria_et_al_data/eukaryotes/ingroup/phyml/KOG1343.faa.aln.nwk\n",
      "../Tria_et_al_data/eukaryotes/ingroup/phyml/KOG0551.faa.aln.nwk\n",
      "../Tria_et_al_data/eukaryotes/ingroup/phyml/KOG2946.faa.aln.nwk\n",
      "../Tria_et_al_data/eukaryotes/ingroup/phyml/KOG3059.faa.aln.nwk\n",
      "../Tria_et_al_data/eukaryotes/ingroup/phyml/KOG0433.faa.aln.nwk\n",
      "../Tria_et_al_data/eukaryotes/ingroup/phyml/KOG0815.faa.aln.nwk\n",
      "../Tria_et_al_data/eukaryotes/ingroup/phyml/KOG4205.faa.aln.nwk\n",
      "../Tria_et_al_data/eukaryotes/ingroup/phyml/KOG3933.faa.aln.nwk\n",
      "../Tria_et_al_data/eukaryotes/ingroup/phyml/KOG3393.faa.aln.nwk\n",
      "../Tria_et_al_data/eukaryotes/ingroup/phyml/KOG2581.faa.aln.nwk\n",
      "../Tria_et_al_data/eukaryotes/ingroup/phyml/KOG0666.faa.aln.nwk\n",
      "../Tria_et_al_data/eukaryotes/ingroup/phyml/KOG2298.faa.aln.nwk\n",
      "../Tria_et_al_data/eukaryotes/ingroup/phyml/KOG1860.faa.aln.nwk\n",
      "../Tria_et_al_data/eukaryotes/ingroup/phyml/KOG0182.faa.aln.nwk\n",
      "../Tria_et_al_data/eukaryotes/ingroup/phyml/KOG3127.faa.aln.nwk\n",
      "../Tria_et_al_data/eukaryotes/ingroup/phyml/KOG1089.faa.aln.nwk\n",
      "../Tria_et_al_data/eukaryotes/ingroup/phyml/KOG1116.faa.aln.nwk\n",
      "../Tria_et_al_data/eukaryotes/ingroup/phyml/KOG1446.faa.aln.nwk\n",
      "../Tria_et_al_data/eukaryotes/ingroup/phyml/KOG0254.faa.aln.nwk\n",
      "../Tria_et_al_data/eukaryotes/ingroup/phyml/KOG0789.faa.aln.nwk\n",
      "../Tria_et_al_data/eukaryotes/ingroup/phyml/KOG0346.faa.aln.nwk\n",
      "../Tria_et_al_data/eukaryotes/ingroup/phyml/KOG1554.faa.aln.nwk\n",
      "../Tria_et_al_data/eukaryotes/ingroup/phyml/KOG0616.faa.aln.nwk\n",
      "../Tria_et_al_data/eukaryotes/ingroup/phyml/KOG1004.faa.aln.nwk\n",
      "../Tria_et_al_data/eukaryotes/ingroup/phyml/KOG2848.faa.aln.nwk\n",
      "../Tria_et_al_data/eukaryotes/ingroup/phyml/KOG3157.faa.aln.nwk\n",
      "../Tria_et_al_data/eukaryotes/ingroup/phyml/KOG2215.faa.aln.nwk\n",
      "../Tria_et_al_data/eukaryotes/ingroup/phyml/KOG1166.faa.aln.nwk\n",
      "../Tria_et_al_data/eukaryotes/ingroup/phyml/KOG1436.faa.aln.nwk\n",
      "../Tria_et_al_data/eukaryotes/ingroup/phyml/KOG2552.faa.aln.nwk\n",
      "../Tria_et_al_data/eukaryotes/ingroup/phyml/KOG2002.faa.aln.nwk\n",
      "../Tria_et_al_data/eukaryotes/ingroup/phyml/KOG1468.faa.aln.nwk\n",
      "../Tria_et_al_data/eukaryotes/ingroup/phyml/KOG2329.faa.aln.nwk\n",
      "../Tria_et_al_data/eukaryotes/ingroup/phyml/KOG2989.faa.aln.nwk\n",
      "../Tria_et_al_data/eukaryotes/ingroup/phyml/KOG1743.faa.aln.nwk\n",
      "../Tria_et_al_data/eukaryotes/ingroup/phyml/KOG1213.faa.aln.nwk\n",
      "../Tria_et_al_data/eukaryotes/ingroup/phyml/KOG0318.faa.aln.nwk\n",
      "../Tria_et_al_data/eukaryotes/ingroup/phyml/KOG0395.faa.aln.nwk\n",
      "../Tria_et_al_data/eukaryotes/ingroup/phyml/KOG3330.faa.aln.nwk\n",
      "../Tria_et_al_data/eukaryotes/ingroup/phyml/KOG2072.faa.aln.nwk\n",
      "../Tria_et_al_data/eukaryotes/ingroup/phyml/KOG1148.faa.aln.nwk\n",
      "../Tria_et_al_data/eukaryotes/ingroup/phyml/KOG1651.faa.aln.nwk\n",
      "../Tria_et_al_data/eukaryotes/ingroup/phyml/KOG2609.faa.aln.nwk\n",
      "../Tria_et_al_data/eukaryotes/ingroup/phyml/KOG2866.faa.aln.nwk\n",
      "../Tria_et_al_data/eukaryotes/ingroup/phyml/KOG3184.faa.aln.nwk\n",
      "../Tria_et_al_data/eukaryotes/ingroup/phyml/KOG0121.faa.aln.nwk\n",
      "../Tria_et_al_data/eukaryotes/ingroup/phyml/KOG1263.faa.aln.nwk\n",
      "../Tria_et_al_data/eukaryotes/ingroup/phyml/KOG2110.faa.aln.nwk\n",
      "../Tria_et_al_data/eukaryotes/ingroup/phyml/KOG2440.faa.aln.nwk\n",
      "../Tria_et_al_data/eukaryotes/ingroup/phyml/KOG0857.faa.aln.nwk\n",
      "../Tria_et_al_data/eukaryotes/ingroup/phyml/KOG0368.faa.aln.nwk\n",
      "../Tria_et_al_data/eukaryotes/ingroup/phyml/KOG3771.faa.aln.nwk\n",
      "../Tria_et_al_data/eukaryotes/ingroup/phyml/KOG0284.faa.aln.nwk\n",
      "../Tria_et_al_data/eukaryotes/ingroup/phyml/KOG1059.faa.aln.nwk\n",
      "../Tria_et_al_data/eukaryotes/ingroup/phyml/KOG3068.faa.aln.nwk\n",
      "../Tria_et_al_data/eukaryotes/ingroup/phyml/KOG4061.faa.aln.nwk\n",
      "../Tria_et_al_data/eukaryotes/ingroup/phyml/KOG2815.faa.aln.nwk\n",
      "../Tria_et_al_data/eukaryotes/ingroup/phyml/KOG0152.faa.aln.nwk\n",
      "../Tria_et_al_data/eukaryotes/ingroup/phyml/KOG1210.faa.aln.nwk\n",
      "../Tria_et_al_data/eukaryotes/ingroup/phyml/KOG4103.faa.aln.nwk\n",
      "../Tria_et_al_data/eukaryotes/ingroup/phyml/KOG2248.faa.aln.nwk\n",
      "../Tria_et_al_data/eukaryotes/ingroup/phyml/KOG3095.faa.aln.nwk\n",
      "../Tria_et_al_data/eukaryotes/ingroup/phyml/KOG1622.faa.aln.nwk\n",
      "../Tria_et_al_data/eukaryotes/ingroup/phyml/KOG2977.faa.aln.nwk\n",
      "../Tria_et_al_data/eukaryotes/ingroup/phyml/KOG0946.faa.aln.nwk\n",
      "../Tria_et_al_data/eukaryotes/ingroup/phyml/KOG3343.faa.aln.nwk\n",
      "../Tria_et_al_data/eukaryotes/ingroup/phyml/KOG3613.faa.aln.nwk\n",
      "../Tria_et_al_data/eukaryotes/ingroup/phyml/KOG0279.faa.aln.nwk\n",
      "../Tria_et_al_data/eukaryotes/ingroup/phyml/KOG0729.faa.aln.nwk\n",
      "../Tria_et_al_data/eukaryotes/ingroup/phyml/KOG0854.faa.aln.nwk\n",
      "../Tria_et_al_data/eukaryotes/ingroup/phyml/KOG3251.faa.aln.nwk\n",
      "../Tria_et_al_data/eukaryotes/ingroup/phyml/KOG4011.faa.aln.nwk\n",
      "../Tria_et_al_data/eukaryotes/ingroup/phyml/KOG0122.faa.aln.nwk\n",
      "../Tria_et_al_data/eukaryotes/ingroup/phyml/KOG3187.faa.aln.nwk\n",
      "../Tria_et_al_data/eukaryotes/ingroup/phyml/KOG2768.faa.aln.nwk\n",
      "../Tria_et_al_data/eukaryotes/ingroup/phyml/KOG1302.faa.aln.nwk\n",
      "../Tria_et_al_data/eukaryotes/ingroup/phyml/KOG1652.faa.aln.nwk\n",
      "../Tria_et_al_data/eukaryotes/ingroup/phyml/KOG0396.faa.aln.nwk\n",
      "../Tria_et_al_data/eukaryotes/ingroup/phyml/KOG0936.faa.aln.nwk\n",
      "../Tria_et_al_data/eukaryotes/ingroup/phyml/KOG0968.faa.aln.nwk\n",
      "../Tria_et_al_data/eukaryotes/ingroup/phyml/KOG0698.faa.aln.nwk\n",
      "../Tria_et_al_data/eukaryotes/ingroup/phyml/KOG0707.faa.aln.nwk\n",
      "../Tria_et_al_data/eukaryotes/ingroup/phyml/KOG0257.faa.aln.nwk\n",
      "../Tria_et_al_data/eukaryotes/ingroup/phyml/KOG3124.faa.aln.nwk\n",
      "../Tria_et_al_data/eukaryotes/ingroup/phyml/KOG1793.faa.aln.nwk\n",
      "../Tria_et_al_data/eukaryotes/ingroup/phyml/KOG0181.faa.aln.nwk\n",
      "../Tria_et_al_data/eukaryotes/ingroup/phyml/KOG1863.faa.aln.nwk\n",
      "../Tria_et_al_data/eukaryotes/ingroup/phyml/KOG3046.faa.aln.nwk\n",
      "../Tria_et_al_data/eukaryotes/ingroup/phyml/KOG2654.faa.aln.nwk\n",
      "../Tria_et_al_data/eukaryotes/ingroup/phyml/KOG4206.faa.aln.nwk\n",
      "../Tria_et_al_data/eukaryotes/ingroup/phyml/KOG0335.faa.aln.nwk\n",
      "../Tria_et_al_data/eukaryotes/ingroup/phyml/KOG0995.faa.aln.nwk\n",
      "../Tria_et_al_data/eukaryotes/ingroup/phyml/KOG1165.faa.aln.nwk\n",
      "../Tria_et_al_data/eukaryotes/ingroup/phyml/KOG1435.faa.aln.nwk\n",
      "../Tria_et_al_data/eukaryotes/ingroup/phyml/KOG3282.faa.aln.nwk\n",
      "../Tria_et_al_data/eukaryotes/ingroup/phyml/KOG0227.faa.aln.nwk\n",
      "../Tria_et_al_data/eukaryotes/ingroup/phyml/KOG1813.faa.aln.nwk\n",
      "../Tria_et_al_data/eukaryotes/ingroup/phyml/KOG3154.faa.aln.nwk\n",
      "../Tria_et_al_data/eukaryotes/ingroup/phyml/KOG3404.faa.aln.nwk\n",
      "../Tria_et_al_data/eukaryotes/ingroup/phyml/KOG2929.faa.aln.nwk\n",
      "../Tria_et_al_data/eukaryotes/ingroup/phyml/KOG2624.faa.aln.nwk\n",
      "../Tria_et_al_data/eukaryotes/ingroup/phyml/KOG3036.faa.aln.nwk\n",
      "../Tria_et_al_data/eukaryotes/ingroup/phyml/KOG1198.faa.aln.nwk\n",
      "../Tria_et_al_data/eukaryotes/ingroup/phyml/KOG0345.faa.aln.nwk\n",
      "../Tria_et_al_data/eukaryotes/ingroup/phyml/KOG0615.faa.aln.nwk\n",
      "../Tria_et_al_data/eukaryotes/ingroup/phyml/KOG2121.faa.aln.nwk\n",
      "../Tria_et_al_data/eukaryotes/ingroup/phyml/KOG0796.faa.aln.nwk\n",
      "../Tria_et_al_data/eukaryotes/ingroup/phyml/KOG0359.faa.aln.nwk\n",
      "../Tria_et_al_data/eukaryotes/ingroup/phyml/KOG2638.faa.aln.nwk\n",
      "../Tria_et_al_data/eukaryotes/ingroup/phyml/KOG0440.faa.aln.nwk\n",
      "../Tria_et_al_data/eukaryotes/ingroup/phyml/KOG0110.faa.aln.nwk\n",
      "../Tria_et_al_data/eukaryotes/ingroup/phyml/KOG3418.faa.aln.nwk\n",
      "../Tria_et_al_data/eukaryotes/ingroup/phyml/KOG0072.faa.aln.nwk\n",
      "../Tria_et_al_data/eukaryotes/ingroup/phyml/KOG2043.faa.aln.nwk\n",
      "../Tria_et_al_data/eukaryotes/ingroup/phyml/KOG2513.faa.aln.nwk\n",
      "../Tria_et_al_data/eukaryotes/ingroup/phyml/KOG3301.faa.aln.nwk\n",
      "../Tria_et_al_data/eukaryotes/ingroup/phyml/KOG1179.faa.aln.nwk\n",
      "../Tria_et_al_data/eukaryotes/ingroup/phyml/KOG0816.faa.aln.nwk\n",
      "../Tria_et_al_data/eukaryotes/ingroup/phyml/KOG0989.faa.aln.nwk\n",
      "../Tria_et_al_data/eukaryotes/ingroup/phyml/KOG0329.faa.aln.nwk\n",
      "../Tria_et_al_data/eukaryotes/ingroup/phyml/KOG0679.faa.aln.nwk\n",
      "../Tria_et_al_data/eukaryotes/ingroup/phyml/KOG2318.faa.aln.nwk\n",
      "../Tria_et_al_data/eukaryotes/ingroup/phyml/KOG2648.faa.aln.nwk\n",
      "../Tria_et_al_data/eukaryotes/ingroup/phyml/KOG1096.faa.aln.nwk\n",
      "../Tria_et_al_data/eukaryotes/ingroup/phyml/KOG1598.faa.aln.nwk\n",
      "../Tria_et_al_data/eukaryotes/ingroup/phyml/KOG0215.faa.aln.nwk\n",
      "../Tria_et_al_data/eukaryotes/ingroup/phyml/KOG0745.faa.aln.nwk\n",
      "../Tria_et_al_data/eukaryotes/ingroup/phyml/KOG1281.faa.aln.nwk\n",
      "../Tria_et_al_data/eukaryotes/ingroup/phyml/KOG2884.faa.aln.nwk\n",
      "../Tria_et_al_data/eukaryotes/ingroup/phyml/KOG1943.faa.aln.nwk\n",
      "../Tria_et_al_data/eukaryotes/ingroup/phyml/KOG3004.faa.aln.nwk\n",
      "../Tria_et_al_data/eukaryotes/ingroup/phyml/KOG2879.faa.aln.nwk\n",
      "../Tria_et_al_data/eukaryotes/ingroup/phyml/KOG2090.faa.aln.nwk\n",
      "../Tria_et_al_data/eukaryotes/ingroup/phyml/KOG0627.faa.aln.nwk\n",
      "../Tria_et_al_data/eukaryotes/ingroup/phyml/KOG1477.faa.aln.nwk\n",
      "../Tria_et_al_data/eukaryotes/ingroup/phyml/KOG3790.faa.aln.nwk\n",
      "../Tria_et_al_data/eukaryotes/ingroup/phyml/KOG0735.faa.aln.nwk\n",
      "../Tria_et_al_data/eukaryotes/ingroup/phyml/KOG0581.faa.aln.nwk\n",
      "../Tria_et_al_data/eukaryotes/ingroup/phyml/KOG1393.faa.aln.nwk\n",
      "../Tria_et_al_data/eukaryotes/ingroup/phyml/KOG1933.faa.aln.nwk\n",
      "../Tria_et_al_data/eukaryotes/ingroup/phyml/KOG0307.faa.aln.nwk\n",
      "../Tria_et_al_data/eukaryotes/ingroup/phyml/KOG0750.faa.aln.nwk\n",
      "../Tria_et_al_data/eukaryotes/ingroup/phyml/KOG2078.faa.aln.nwk\n",
      "../Tria_et_al_data/eukaryotes/ingroup/phyml/KOG2231.faa.aln.nwk\n",
      "../Tria_et_al_data/eukaryotes/ingroup/phyml/KOG1294.faa.aln.nwk\n",
      "../Tria_et_al_data/eukaryotes/ingroup/phyml/KOG1956.faa.aln.nwk\n",
      "../Tria_et_al_data/eukaryotes/ingroup/phyml/KOG4018.faa.aln.nwk\n",
      "../Tria_et_al_data/eukaryotes/ingroup/phyml/KOG4548.faa.aln.nwk\n",
      "../Tria_et_al_data/eukaryotes/ingroup/phyml/KOG2603.faa.aln.nwk\n",
      "../Tria_et_al_data/eukaryotes/ingroup/phyml/KOG0362.faa.aln.nwk\n",
      "../Tria_et_al_data/eukaryotes/ingroup/phyml/KOG1020.faa.aln.nwk\n",
      "../Tria_et_al_data/eukaryotes/ingroup/phyml/KOG2085.faa.aln.nwk\n",
      "../Tria_et_al_data/eukaryotes/ingroup/phyml/KOG2197.faa.aln.nwk\n",
      "../Tria_et_al_data/eukaryotes/ingroup/phyml/KOG0270.faa.aln.nwk\n",
      "../Tria_et_al_data/eukaryotes/ingroup/phyml/KOG1462.faa.aln.nwk\n",
      "../Tria_et_al_data/eukaryotes/ingroup/phyml/KOG0039.faa.aln.nwk\n",
      "../Tria_et_al_data/eukaryotes/ingroup/phyml/KOG0569.faa.aln.nwk\n",
      "../Tria_et_al_data/eukaryotes/ingroup/phyml/KOG1844.faa.aln.nwk\n",
      "../Tria_et_al_data/eukaryotes/ingroup/phyml/KOG3103.faa.aln.nwk\n",
      "../Tria_et_al_data/eukaryotes/ingroup/phyml/KOG2711.faa.aln.nwk\n",
      "../Tria_et_al_data/eukaryotes/ingroup/phyml/KOG3453.faa.aln.nwk\n",
      "../Tria_et_al_data/eukaryotes/ingroup/phyml/KOG2241.faa.aln.nwk\n",
      "../Tria_et_al_data/eukaryotes/ingroup/phyml/KOG1749.faa.aln.nwk\n",
      "../Tria_et_al_data/eukaryotes/ingroup/phyml/KOG0594.faa.aln.nwk\n",
      "../Tria_et_al_data/eukaryotes/ingroup/phyml/KOG2323.faa.aln.nwk\n",
      "../Tria_et_al_data/eukaryotes/ingroup/phyml/KOG0642.faa.aln.nwk\n",
      "../Tria_et_al_data/eukaryotes/ingroup/phyml/KOG3949.faa.aln.nwk\n",
      "../Tria_et_al_data/eukaryotes/ingroup/phyml/KOG1191.faa.aln.nwk\n",
      "../Tria_et_al_data/eukaryotes/ingroup/phyml/KOG2134.faa.aln.nwk\n",
      "../Tria_et_al_data/eukaryotes/ingroup/phyml/KOG0873.faa.aln.nwk\n",
      "../Tria_et_al_data/eukaryotes/ingroup/phyml/KOG1247.faa.aln.nwk\n",
      "../Tria_et_al_data/eukaryotes/ingroup/phyml/KOG1978.faa.aln.nwk\n",
      "../Tria_et_al_data/eukaryotes/ingroup/phyml/KOG1688.faa.aln.nwk\n",
      "../Tria_et_al_data/eukaryotes/ingroup/phyml/KOG0537.faa.aln.nwk\n",
      "../Tria_et_al_data/eukaryotes/ingroup/phyml/KOG2920.faa.aln.nwk\n",
      "../Tria_et_al_data/eukaryotes/ingroup/phyml/KOG1985.faa.aln.nwk\n",
      "../Tria_et_al_data/eukaryotes/ingroup/phyml/KOG0911.faa.aln.nwk\n",
      "../Tria_et_al_data/eukaryotes/ingroup/phyml/KOG2056.faa.aln.nwk\n",
      "../Tria_et_al_data/eukaryotes/ingroup/phyml/KOG3399.faa.aln.nwk\n",
      "../Tria_et_al_data/eukaryotes/ingroup/phyml/KOG0803.faa.aln.nwk\n",
      "../Tria_et_al_data/eukaryotes/ingroup/phyml/KOG2144.faa.aln.nwk\n",
      "../Tria_et_al_data/eukaryotes/ingroup/phyml/KOG2414.faa.aln.nwk\n",
      "../Tria_et_al_data/eukaryotes/ingroup/phyml/KOG3206.faa.aln.nwk\n",
      "../Tria_et_al_data/eukaryotes/ingroup/phyml/KOG0175.faa.aln.nwk\n",
      "../Tria_et_al_data/eukaryotes/ingroup/phyml/KOG1237.faa.aln.nwk\n",
      "../Tria_et_al_data/eukaryotes/ingroup/phyml/KOG3480.faa.aln.nwk\n",
      "../Tria_et_al_data/eukaryotes/ingroup/phyml/KOG0425.faa.aln.nwk\n",
      "../Tria_et_al_data/eukaryotes/ingroup/phyml/KOG2292.faa.aln.nwk\n",
      "../Tria_et_al_data/eukaryotes/ingroup/phyml/KOG2832.faa.aln.nwk\n",
      "../Tria_et_al_data/eukaryotes/ingroup/phyml/KOG4046.faa.aln.nwk\n",
      "../Tria_et_al_data/eukaryotes/ingroup/phyml/KOG2950.faa.aln.nwk\n",
      "../Tria_et_al_data/eukaryotes/ingroup/phyml/KOG1355.faa.aln.nwk\n",
      "../Tria_et_al_data/eukaryotes/ingroup/phyml/KOG0547.faa.aln.nwk\n",
      "../Tria_et_al_data/eukaryotes/ingroup/phyml/KOG1605.faa.aln.nwk\n",
      "../Tria_et_al_data/eukaryotes/ingroup/phyml/KOG0188.faa.aln.nwk\n",
      "../Tria_et_al_data/eukaryotes/ingroup/phyml/KOG2576.faa.aln.nwk\n",
      "../Tria_et_al_data/eukaryotes/ingroup/phyml/KOG2026.faa.aln.nwk\n"
     ]
    }
   ],
   "source": [
    "n_to_prune = 15\n",
    "for infile in glob.glob('../Tria_et_al_data/eukaryotes/ingroup/phyml/*.nwk')[:500]:\n",
    "    print(infile)\n",
    "    ###Using ete3\n",
    "    tree = ete3.Tree(infile)\n",
    "#     to_remove = random.sample(metazoa, n_to_prune) \n",
    "    to_remove = random.sample(not_metazoa, n_to_prune) \n",
    "    for i in to_remove:\n",
    "        G = tree.search_nodes(name=i)[0]\n",
    "        G.delete()\n",
    "    tree.write(format=1, outfile=infile+'.{}.pruned'.format(n_to_prune))"
   ]
  },
  {
   "cell_type": "code",
   "execution_count": null,
   "metadata": {
    "collapsed": true
   },
   "outputs": [],
   "source": []
  }
 ],
 "metadata": {
  "kernelspec": {
   "display_name": "Python 3",
   "language": "python",
   "name": "python3"
  },
  "language_info": {
   "codemirror_mode": {
    "name": "ipython",
    "version": 3
   },
   "file_extension": ".py",
   "mimetype": "text/x-python",
   "name": "python",
   "nbconvert_exporter": "python",
   "pygments_lexer": "ipython3",
   "version": "3.4.5"
  },
  "toc": {
   "colors": {
    "hover_highlight": "#DAA520",
    "navigate_num": "#000000",
    "navigate_text": "#333333",
    "running_highlight": "#FF0000",
    "selected_highlight": "#FFD700",
    "sidebar_border": "#EEEEEE",
    "wrapper_background": "#FFFFFF"
   },
   "moveMenuLeft": true,
   "nav_menu": {
    "height": "30px",
    "width": "252px"
   },
   "navigate_menu": true,
   "number_sections": true,
   "sideBar": true,
   "threshold": 4,
   "toc_cell": false,
   "toc_section_display": "block",
   "toc_window_display": false,
   "widenNotebook": false
  }
 },
 "nbformat": 4,
 "nbformat_minor": 2
}
